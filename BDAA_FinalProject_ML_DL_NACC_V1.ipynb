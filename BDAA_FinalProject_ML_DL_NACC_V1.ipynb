{
  "nbformat": 4,
  "nbformat_minor": 0,
  "metadata": {
    "kernelspec": {
      "name": "python3",
      "display_name": "Python 3"
    },
    "language_info": {
      "codemirror_mode": {
        "name": "ipython",
        "version": 3
      },
      "file_extension": ".py",
      "mimetype": "text/x-python",
      "name": "python",
      "nbconvert_exporter": "python",
      "pygments_lexer": "ipython3",
      "version": "3.5.5"
    },
    "toc": {
      "base_numbering": 1,
      "nav_menu": {},
      "number_sections": true,
      "sideBar": true,
      "skip_h1_title": false,
      "title_cell": "Table of Contents",
      "title_sidebar": "Contents",
      "toc_cell": false,
      "toc_position": {
        "height": "calc(100% - 180px)",
        "left": "10px",
        "top": "150px",
        "width": "381px"
      },
      "toc_section_display": true,
      "toc_window_display": true
    },
    "colab": {
      "name": "BDAA_FinalProject_ML_DL_NACC_V1.ipynb",
      "provenance": [],
      "collapsed_sections": [],
      "toc_visible": true
    },
    "accelerator": "GPU"
  },
  "cells": [
    {
      "cell_type": "markdown",
      "metadata": {
        "id": "q0RuNvT1mjUA",
        "colab_type": "text"
      },
      "source": [
        "# Big Data Application and Analytics - Project Overview <a name=\"1\"></a>\n",
        "\n",
        "**Google Cloud & NCAA® ML Competition 2018-Men's\n",
        "Apply Machine Learning to NCAA® March Madness®\n",
        "Kaggle Competition**\n",
        "\n",
        "**Savaranan Natarajan, Senthil Palani**\n",
        "\n",
        "The goal of our project is to predict the outcomes of college basketball games during a season based on key performance variables for each team.  There are ~5500 Men's Division 1 basketball games each year.  Our intent is to train our model on the first 80% of games played using 16 key performance variables recorded during the game by each team, and compare to the outcome of the game.  We will then predict the winners of the remaining 20% of games. \n",
        "\n",
        "The interesting part of this project is determining how to deal with the 'test data' for the final 20% of the games.  We can not simply use the performance variables captured during the 'test' games to predict the winner, because in reality you would not know these parameters until after the game is played (steals, shot percentage, total points,  etc.).  Instead we will have to 'predict' each teams expected game performance features based on their previous history, and then run the model using those features to create the ultimate target:  the game winner.   \n",
        "\n",
        "We are utilizing data from a Kaggle competition based on predicting the 2018 NCAA Mens College Basketball Tourney results.  We will re-purpose the data for our study.  The key data set that we will utilize will include the 16 key performance indicators for each team during every game of the season.  This data set contains every game going back to 2003.  We will treat each season as a separate study.  Our intent is to predict the 2017-2018 season, but our stretch goal is to predict additional years and see whether the optimal method is the same or different across years.\n",
        "\n",
        "We believe that logarithmic regressors with log loss metrics should be the first approaches to explore in order to generate a percentage chance of winning.  However, we will test many of the different methodologies studied during the course to find the best predictor.\n",
        "\n",
        "Here's the [link](https://www.kaggle.com/c/mens-machine-learning-competition-2018#description) to the Kaggle competition \n"
      ]
    },
    {
      "cell_type": "code",
      "metadata": {
        "id": "L__dSdLbtrOX",
        "colab_type": "code",
        "outputId": "33839ec7-5181-4112-82ee-4a81aa34ead0",
        "colab": {
          "base_uri": "https://localhost:8080/",
          "height": 34
        }
      },
      "source": [
        "# Run this cell to mount your Google Drive.\n",
        "from google.colab import drive\n",
        "drive.mount('/content/drive')"
      ],
      "execution_count": 0,
      "outputs": [
        {
          "output_type": "stream",
          "text": [
            "Drive already mounted at /content/drive; to attempt to forcibly remount, call drive.mount(\"/content/drive\", force_remount=True).\n"
          ],
          "name": "stdout"
        }
      ]
    },
    {
      "cell_type": "markdown",
      "metadata": {
        "id": "qheXiWdwmjUC",
        "colab_type": "text"
      },
      "source": [
        ""
      ]
    },
    {
      "cell_type": "markdown",
      "metadata": {
        "id": "ANP0fkQqmjUC",
        "colab_type": "text"
      },
      "source": [
        "\n",
        "\n",
        "  --    safsd## DL - Base Model with fit, evaluate and plat matrix - binary_crossentropy sigmoid## DL - Base Model with fit, evaluate and plat matrix - binary_crossentropy sigmoid - Standard Scalar## DL - Base Model with fit, evaluate and plat matrix - binary_crossentropy sigmoid - Standard Scalar## DL - Base Model with fit, evaluate and plat matrix - binary_crossentropy sigm ## DL - Base Model with fit, evaluate and plat matrix - binary_crossentropy sigmoid - Standard Scalar## DL - Base Model with fit, evaluate and plat matrix - binary_crossentropy sigmoid - Standard Scalar## DL - Base Model with fit, evaluate and plat matrix - binary_crossentropy sigmoid - Standard Scalar## DL - Base Model with fit, evaluate and plat matrix - binary_crossentropy sigmoid - Standard Scalar## DL - Base Model with fit, evaluate and plat matrix - binary_crossentropy sigmoid - Standard Scalar## DL - Base Model with fit, evaluate and plat matrix - binary_crossentropy sigmoid - Standard Scalar## DL - Base Model with fit, evaluate and plat matrix - binary_crossentropy sigmoid - Standard Scalarasdasd## DL - Base Model with fit, evaluate and plat matrix - binary_crossentropy sigmoid - Standard Scalar## DL - Base Model with fit, evaluate and plat matrix - binary_crossentropy - adam optimizer - sigmoid - Standard ScalarRe-Run The Baseline Model With Data Preparation - TUNING - StandardScalerRe-Run The Baseline Model With Data Preparation - TUNING - StandardScaler  "
      ]
    },
    {
      "cell_type": "code",
      "metadata": {
        "ExecuteTime": {
          "end_time": "2018-12-08T21:27:48.590413Z",
          "start_time": "2018-12-08T21:27:45.125215Z"
        },
        "id": "_MCY80oOmjUD",
        "colab_type": "code",
        "colab": {}
      },
      "source": [
        "import matplotlib.pyplot as plt\n",
        "import pandas as pd \n",
        "import numpy as np\n",
        "import os\n",
        "import sys\n",
        "import seaborn as sns\n",
        "import time\n",
        "import warnings\n",
        "warnings.simplefilter('ignore')\n",
        "\n",
        "from collections import Counter\n",
        "from scipy import sparse, stats\n",
        "from sklearn import preprocessing as prep\n",
        "from sklearn.base import BaseEstimator, TransformerMixin\n",
        "from sklearn.ensemble import RandomForestClassifier\n",
        "from sklearn.linear_model import Lasso, LinearRegression, LogisticRegression, Ridge, SGDClassifier\n",
        "from sklearn.metrics import accuracy_score, mean_squared_error, mean_absolute_error, r2_score\n",
        "from sklearn.model_selection import train_test_split, GridSearchCV, cross_val_score, ShuffleSplit, StratifiedKFold\n",
        "from sklearn.pipeline import FeatureUnion, Pipeline\n",
        "from sklearn.preprocessing import Imputer, LabelEncoder, StandardScaler, OneHotEncoder, MinMaxScaler\n",
        "from sklearn.svm import SVC, SVR\n",
        "from sklearn.utils import check_array\n",
        "\n",
        "from sklearn.feature_extraction.text import CountVectorizer\n",
        "from sklearn.feature_extraction.text import TfidfTransformer\n",
        "from sklearn.metrics import log_loss, confusion_matrix\n",
        "import logging\n",
        "\n",
        "%matplotlib inline"
      ],
      "execution_count": 0,
      "outputs": []
    },
    {
      "cell_type": "markdown",
      "metadata": {
        "id": "F2BD5IyqmjUN",
        "colab_type": "text"
      },
      "source": [
        "# ETL Phase: Load and Preprocess Data\n",
        "\n",
        "All the data can be found on Kaggle [here](https://www.kaggle.com/c/mens-machine-learning-competition-2018/data).  We used RegularSeasonDetailedResults.csv \n"
      ]
    },
    {
      "cell_type": "code",
      "metadata": {
        "ExecuteTime": {
          "end_time": "2018-12-08T21:28:12.232765Z",
          "start_time": "2018-12-08T21:28:11.873744Z"
        },
        "id": "R7oYqMT3mjUO",
        "colab_type": "code",
        "colab": {}
      },
      "source": [
        "#Results = pd.read_csv(r'RegularSeasonDetailedResults.csv')\n",
        "Results = pd.read_csv(r'/content/drive/My Drive/BDAA_Project/RegularSeasonDetailedResults.csv')\n",
        "\n",
        "#Results = pd.read_csv(r'C:\\Data\\RegularSeasonDetailedResults.csv')"
      ],
      "execution_count": 0,
      "outputs": []
    },
    {
      "cell_type": "code",
      "metadata": {
        "ExecuteTime": {
          "end_time": "2018-12-08T21:28:14.980922Z",
          "start_time": "2018-12-08T21:28:14.958921Z"
        },
        "id": "--9FCbjkmjUP",
        "colab_type": "code",
        "colab": {}
      },
      "source": [
        "Results2017 = Results.loc[Results.Season == 2017]"
      ],
      "execution_count": 0,
      "outputs": []
    },
    {
      "cell_type": "code",
      "metadata": {
        "ExecuteTime": {
          "end_time": "2018-12-08T21:28:16.346000Z",
          "start_time": "2018-12-08T21:28:16.241994Z"
        },
        "id": "tAmbV8symjUR",
        "colab_type": "code",
        "colab": {}
      },
      "source": [
        "HomeWin = Results2017.loc[:,['Season','DayNum','WTeamID','WScore','LTeamID','LScore','WLoc']].loc[Results.WLoc=='H']\n",
        "AwayWin = Results2017.loc[:,['Season','DayNum','LTeamID','LScore','WTeamID','WScore','WLoc']].loc[Results.WLoc=='A']\n",
        "\n",
        "HomeWin2 = pd.concat([HomeWin,Results2017.loc[:,['WFGM','WFGA','WFGM3','WFGA3','WFTM','WFTA','WOR','WDR','WAst','WTO','WStl','WBlk','WPF']].loc[Results.WLoc=='H']], axis=1)\n",
        "HomeWin3 = pd.concat([HomeWin2,Results2017.loc[:,['LFGM','LFGA','LFGM3','LFGA3', 'LFTM','LFTA','LOR','LDR','LAst','LTO','LStl','LBlk','LPF']].loc[Results.WLoc=='H']], axis=1)\n",
        "\n",
        "AwayWin2 = pd.concat([AwayWin,Results2017.loc[:,['LFGM','LFGA','LFGM3','LFGA3','LFTM','LFTA','LOR','LDR','LAst','LTO','LStl','LBlk','LPF']].loc[Results.WLoc=='A']], axis=1)\n",
        "AwayWin3 = pd.concat([AwayWin2,Results2017.loc[:,['WFGM','WFGA','WFGM3','WFGA3', 'WFTM','WFTA','WOR','WDR','WAst','WTO','WStl','WBlk','WPF']].loc[Results.WLoc=='A']], axis=1)\n"
      ],
      "execution_count": 0,
      "outputs": []
    },
    {
      "cell_type": "markdown",
      "metadata": {
        "id": "NU9vohJOmjUT",
        "colab_type": "text"
      },
      "source": [
        "Use train test split on neutral site games\n",
        "\n",
        "Spliting neutral site winners between 'Home' and 'Away' with the same ratio as home team winners"
      ]
    },
    {
      "cell_type": "code",
      "metadata": {
        "ExecuteTime": {
          "end_time": "2018-12-08T21:28:18.602129Z",
          "start_time": "2018-12-08T21:28:18.558127Z"
        },
        "id": "1lkqKDuJmjUT",
        "colab_type": "code",
        "colab": {}
      },
      "source": [
        "Neut = Results2017.loc[Results.WLoc=='N']\n",
        "nw, nl = train_test_split(Neut, test_size = .36, random_state = 36)\n",
        "nw = nw.drop(columns=['NumOT'])\n",
        "Neutral = nl.loc[:,['Season','DayNum','LTeamID','LScore','WTeamID','WScore','WLoc']]\n",
        "\n",
        "nl2 = pd.concat([Neutral,nl.loc[:,['LFGM','LFGA','LFGM3','LFGA3', 'LFTM','LFTA','LOR','LDR','LAst','LTO','LStl','LBlk','LPF']]], axis=1)\n",
        "nl3 = pd.concat([nl2,nl.loc[:,['WFGM','WFGA','WFGM3','WFGA3', 'WFTM','WFTA','WOR','WDR','WAst','WTO','WStl','WBlk','WPF']]], axis=1)\n",
        "nw3 = nw"
      ],
      "execution_count": 0,
      "outputs": []
    },
    {
      "cell_type": "code",
      "metadata": {
        "ExecuteTime": {
          "end_time": "2018-12-08T21:28:22.757367Z",
          "start_time": "2018-12-08T21:28:22.727365Z"
        },
        "id": "PEhgKKGhmjUV",
        "colab_type": "code",
        "colab": {}
      },
      "source": [
        "HomeWin3['WON'] = 1 \n",
        "AwayWin3['WON'] = 0\n",
        "nw3['WON'] = 1 \n",
        "nl3['WON'] = 0\n",
        "\n",
        "HomeWin3['NEUTRAL'] = 0 \n",
        "AwayWin3['NEUTRAL'] = 0\n",
        "nw3['NEUTRAL'] = 1 \n",
        "nl3['NEUTRAL'] = 1\n",
        "###############################################################################\n",
        "\n",
        "HomeWin3.columns = ['Season','DayNum','HTeamID','HScore','ATeamID','AScore','WLoc','HFGM','HFGA','HFGM3','HFGA3','HFTM','HFTA','HOR','HDR','HAst','HTO','HStl','HBlk','HPF','AFGM','AFGA','AFGM3','AFGA3','AFTM','AFTA','AOR','ADR','AAst','ATO','AStl','ABlk','APF','WON','NEUTRAL']\n",
        "AwayWin3.columns = ['Season','DayNum','HTeamID','HScore','ATeamID','AScore','WLoc','HFGM','HFGA','HFGM3','HFGA3','HFTM','HFTA','HOR','HDR','HAst','HTO','HStl','HBlk','HPF','AFGM','AFGA','AFGM3','AFGA3','AFTM','AFTA','AOR','ADR','AAst','ATO','AStl','ABlk','APF','WON','NEUTRAL']\n",
        "nw3.columns = ['Season','DayNum','HTeamID','HScore','ATeamID','AScore','WLoc','HFGM','HFGA','HFGM3','HFGA3','HFTM','HFTA','HOR','HDR','HAst','HTO','HStl','HBlk','HPF','AFGM','AFGA','AFGM3','AFGA3','AFTM','AFTA','AOR','ADR','AAst','ATO','AStl','ABlk','APF','WON','NEUTRAL']\n",
        "nl3.columns = ['Season','DayNum','HTeamID','HScore','ATeamID','AScore','WLoc','HFGM','HFGA','HFGM3','HFGA3','HFTM','HFTA','HOR','HDR','HAst','HTO','HStl','HBlk','HPF','AFGM','AFGA','AFGM3','AFGA3','AFTM','AFTA','AOR','ADR','AAst','ATO','AStl','ABlk','APF','WON','NEUTRAL']\n",
        "\n",
        "HomeAwayResults = pd.concat([HomeWin3,AwayWin3,nw3,nl3])"
      ],
      "execution_count": 0,
      "outputs": []
    },
    {
      "cell_type": "markdown",
      "metadata": {
        "id": "yIQ0DquamjUW",
        "colab_type": "text"
      },
      "source": [
        "Notebook Cleanup - deleting old/temporary variables"
      ]
    },
    {
      "cell_type": "code",
      "metadata": {
        "ExecuteTime": {
          "end_time": "2018-12-08T21:28:25.986552Z",
          "start_time": "2018-12-08T21:28:25.981551Z"
        },
        "id": "zCViEtfHmjUX",
        "colab_type": "code",
        "colab": {}
      },
      "source": [
        "del AwayWin\n",
        "del AwayWin2\n",
        "del AwayWin3\n",
        "del HomeWin\n",
        "del HomeWin2\n",
        "del HomeWin3\n",
        "del Neutral\n",
        "del Neut\n",
        "del nl\n",
        "del nl2\n",
        "del nl3\n",
        "del nw\n",
        "del nw3"
      ],
      "execution_count": 0,
      "outputs": []
    },
    {
      "cell_type": "markdown",
      "metadata": {
        "id": "McKee-XVmjUa",
        "colab_type": "text"
      },
      "source": [
        "# Exploritory Data Analysis"
      ]
    },
    {
      "cell_type": "code",
      "metadata": {
        "ExecuteTime": {
          "end_time": "2018-11-24T16:39:15.173969Z",
          "start_time": "2018-11-24T16:39:15.136685Z"
        },
        "id": "sJbmpg5DmjUa",
        "colab_type": "code",
        "outputId": "b0d83d13-9336-42dc-d422-55a7802f9af4",
        "colab": {
          "base_uri": "https://localhost:8080/",
          "height": 223
        }
      },
      "source": [
        "HomeAwayResults.head()"
      ],
      "execution_count": 0,
      "outputs": [
        {
          "output_type": "execute_result",
          "data": {
            "text/html": [
              "<div>\n",
              "<style scoped>\n",
              "    .dataframe tbody tr th:only-of-type {\n",
              "        vertical-align: middle;\n",
              "    }\n",
              "\n",
              "    .dataframe tbody tr th {\n",
              "        vertical-align: top;\n",
              "    }\n",
              "\n",
              "    .dataframe thead th {\n",
              "        text-align: right;\n",
              "    }\n",
              "</style>\n",
              "<table border=\"1\" class=\"dataframe\">\n",
              "  <thead>\n",
              "    <tr style=\"text-align: right;\">\n",
              "      <th></th>\n",
              "      <th>Season</th>\n",
              "      <th>DayNum</th>\n",
              "      <th>HTeamID</th>\n",
              "      <th>HScore</th>\n",
              "      <th>ATeamID</th>\n",
              "      <th>AScore</th>\n",
              "      <th>WLoc</th>\n",
              "      <th>HFGM</th>\n",
              "      <th>HFGA</th>\n",
              "      <th>HFGM3</th>\n",
              "      <th>HFGA3</th>\n",
              "      <th>HFTM</th>\n",
              "      <th>HFTA</th>\n",
              "      <th>HOR</th>\n",
              "      <th>HDR</th>\n",
              "      <th>HAst</th>\n",
              "      <th>HTO</th>\n",
              "      <th>HStl</th>\n",
              "      <th>HBlk</th>\n",
              "      <th>HPF</th>\n",
              "      <th>AFGM</th>\n",
              "      <th>AFGA</th>\n",
              "      <th>AFGM3</th>\n",
              "      <th>AFGA3</th>\n",
              "      <th>AFTM</th>\n",
              "      <th>AFTA</th>\n",
              "      <th>AOR</th>\n",
              "      <th>ADR</th>\n",
              "      <th>AAst</th>\n",
              "      <th>ATO</th>\n",
              "      <th>AStl</th>\n",
              "      <th>ABlk</th>\n",
              "      <th>APF</th>\n",
              "      <th>WON</th>\n",
              "      <th>NEUTRAL</th>\n",
              "    </tr>\n",
              "  </thead>\n",
              "  <tbody>\n",
              "    <tr>\n",
              "      <th>71241</th>\n",
              "      <td>2017</td>\n",
              "      <td>11</td>\n",
              "      <td>1104</td>\n",
              "      <td>70</td>\n",
              "      <td>1157</td>\n",
              "      <td>53</td>\n",
              "      <td>H</td>\n",
              "      <td>21</td>\n",
              "      <td>48</td>\n",
              "      <td>10</td>\n",
              "      <td>26</td>\n",
              "      <td>18</td>\n",
              "      <td>26</td>\n",
              "      <td>7</td>\n",
              "      <td>32</td>\n",
              "      <td>13</td>\n",
              "      <td>11</td>\n",
              "      <td>8</td>\n",
              "      <td>8</td>\n",
              "      <td>19</td>\n",
              "      <td>17</td>\n",
              "      <td>62</td>\n",
              "      <td>9</td>\n",
              "      <td>23</td>\n",
              "      <td>10</td>\n",
              "      <td>16</td>\n",
              "      <td>17</td>\n",
              "      <td>26</td>\n",
              "      <td>7</td>\n",
              "      <td>13</td>\n",
              "      <td>2</td>\n",
              "      <td>2</td>\n",
              "      <td>22</td>\n",
              "      <td>1</td>\n",
              "      <td>0</td>\n",
              "    </tr>\n",
              "    <tr>\n",
              "      <th>71244</th>\n",
              "      <td>2017</td>\n",
              "      <td>11</td>\n",
              "      <td>1113</td>\n",
              "      <td>88</td>\n",
              "      <td>1340</td>\n",
              "      <td>70</td>\n",
              "      <td>H</td>\n",
              "      <td>33</td>\n",
              "      <td>67</td>\n",
              "      <td>9</td>\n",
              "      <td>28</td>\n",
              "      <td>13</td>\n",
              "      <td>18</td>\n",
              "      <td>12</td>\n",
              "      <td>35</td>\n",
              "      <td>11</td>\n",
              "      <td>16</td>\n",
              "      <td>7</td>\n",
              "      <td>3</td>\n",
              "      <td>15</td>\n",
              "      <td>26</td>\n",
              "      <td>67</td>\n",
              "      <td>6</td>\n",
              "      <td>27</td>\n",
              "      <td>12</td>\n",
              "      <td>15</td>\n",
              "      <td>9</td>\n",
              "      <td>24</td>\n",
              "      <td>14</td>\n",
              "      <td>14</td>\n",
              "      <td>5</td>\n",
              "      <td>1</td>\n",
              "      <td>20</td>\n",
              "      <td>1</td>\n",
              "      <td>0</td>\n",
              "    </tr>\n",
              "    <tr>\n",
              "      <th>71245</th>\n",
              "      <td>2017</td>\n",
              "      <td>11</td>\n",
              "      <td>1116</td>\n",
              "      <td>92</td>\n",
              "      <td>1236</td>\n",
              "      <td>83</td>\n",
              "      <td>H</td>\n",
              "      <td>35</td>\n",
              "      <td>66</td>\n",
              "      <td>6</td>\n",
              "      <td>16</td>\n",
              "      <td>16</td>\n",
              "      <td>24</td>\n",
              "      <td>10</td>\n",
              "      <td>29</td>\n",
              "      <td>20</td>\n",
              "      <td>13</td>\n",
              "      <td>9</td>\n",
              "      <td>9</td>\n",
              "      <td>29</td>\n",
              "      <td>25</td>\n",
              "      <td>69</td>\n",
              "      <td>9</td>\n",
              "      <td>28</td>\n",
              "      <td>24</td>\n",
              "      <td>40</td>\n",
              "      <td>21</td>\n",
              "      <td>24</td>\n",
              "      <td>12</td>\n",
              "      <td>12</td>\n",
              "      <td>5</td>\n",
              "      <td>2</td>\n",
              "      <td>24</td>\n",
              "      <td>1</td>\n",
              "      <td>0</td>\n",
              "    </tr>\n",
              "    <tr>\n",
              "      <th>71246</th>\n",
              "      <td>2017</td>\n",
              "      <td>11</td>\n",
              "      <td>1120</td>\n",
              "      <td>83</td>\n",
              "      <td>1316</td>\n",
              "      <td>66</td>\n",
              "      <td>H</td>\n",
              "      <td>25</td>\n",
              "      <td>60</td>\n",
              "      <td>13</td>\n",
              "      <td>32</td>\n",
              "      <td>20</td>\n",
              "      <td>31</td>\n",
              "      <td>11</td>\n",
              "      <td>25</td>\n",
              "      <td>17</td>\n",
              "      <td>17</td>\n",
              "      <td>11</td>\n",
              "      <td>6</td>\n",
              "      <td>21</td>\n",
              "      <td>22</td>\n",
              "      <td>57</td>\n",
              "      <td>6</td>\n",
              "      <td>20</td>\n",
              "      <td>16</td>\n",
              "      <td>24</td>\n",
              "      <td>14</td>\n",
              "      <td>28</td>\n",
              "      <td>10</td>\n",
              "      <td>28</td>\n",
              "      <td>2</td>\n",
              "      <td>2</td>\n",
              "      <td>30</td>\n",
              "      <td>1</td>\n",
              "      <td>0</td>\n",
              "    </tr>\n",
              "    <tr>\n",
              "      <th>71248</th>\n",
              "      <td>2017</td>\n",
              "      <td>11</td>\n",
              "      <td>1124</td>\n",
              "      <td>76</td>\n",
              "      <td>1331</td>\n",
              "      <td>61</td>\n",
              "      <td>H</td>\n",
              "      <td>24</td>\n",
              "      <td>54</td>\n",
              "      <td>10</td>\n",
              "      <td>26</td>\n",
              "      <td>18</td>\n",
              "      <td>26</td>\n",
              "      <td>10</td>\n",
              "      <td>26</td>\n",
              "      <td>18</td>\n",
              "      <td>11</td>\n",
              "      <td>9</td>\n",
              "      <td>5</td>\n",
              "      <td>18</td>\n",
              "      <td>24</td>\n",
              "      <td>58</td>\n",
              "      <td>3</td>\n",
              "      <td>13</td>\n",
              "      <td>10</td>\n",
              "      <td>14</td>\n",
              "      <td>9</td>\n",
              "      <td>24</td>\n",
              "      <td>13</td>\n",
              "      <td>14</td>\n",
              "      <td>3</td>\n",
              "      <td>0</td>\n",
              "      <td>19</td>\n",
              "      <td>1</td>\n",
              "      <td>0</td>\n",
              "    </tr>\n",
              "  </tbody>\n",
              "</table>\n",
              "</div>"
            ],
            "text/plain": [
              "       Season  DayNum  HTeamID  HScore  ATeamID  ...  AStl ABlk  APF  WON  NEUTRAL\n",
              "71241    2017      11     1104      70     1157  ...     2    2   22    1        0\n",
              "71244    2017      11     1113      88     1340  ...     5    1   20    1        0\n",
              "71245    2017      11     1116      92     1236  ...     5    2   24    1        0\n",
              "71246    2017      11     1120      83     1316  ...     2    2   30    1        0\n",
              "71248    2017      11     1124      76     1331  ...     3    0   19    1        0\n",
              "\n",
              "[5 rows x 35 columns]"
            ]
          },
          "metadata": {
            "tags": []
          },
          "execution_count": 9
        }
      ]
    },
    {
      "cell_type": "code",
      "metadata": {
        "ExecuteTime": {
          "end_time": "2018-11-24T02:30:19.154990Z",
          "start_time": "2018-11-24T02:30:19.128610Z"
        },
        "id": "IdcoFg90mjUd",
        "colab_type": "code",
        "outputId": "2ff454b8-4016-4b3d-e2d7-00e607abfd38",
        "colab": {
          "base_uri": "https://localhost:8080/",
          "height": 703
        }
      },
      "source": [
        "Results2017.info()"
      ],
      "execution_count": 0,
      "outputs": [
        {
          "output_type": "stream",
          "text": [
            "<class 'pandas.core.frame.DataFrame'>\n",
            "Int64Index: 5395 entries, 71241 to 76635\n",
            "Data columns (total 34 columns):\n",
            "Season     5395 non-null int64\n",
            "DayNum     5395 non-null int64\n",
            "WTeamID    5395 non-null int64\n",
            "WScore     5395 non-null int64\n",
            "LTeamID    5395 non-null int64\n",
            "LScore     5395 non-null int64\n",
            "WLoc       5395 non-null object\n",
            "NumOT      5395 non-null int64\n",
            "WFGM       5395 non-null int64\n",
            "WFGA       5395 non-null int64\n",
            "WFGM3      5395 non-null int64\n",
            "WFGA3      5395 non-null int64\n",
            "WFTM       5395 non-null int64\n",
            "WFTA       5395 non-null int64\n",
            "WOR        5395 non-null int64\n",
            "WDR        5395 non-null int64\n",
            "WAst       5395 non-null int64\n",
            "WTO        5395 non-null int64\n",
            "WStl       5395 non-null int64\n",
            "WBlk       5395 non-null int64\n",
            "WPF        5395 non-null int64\n",
            "LFGM       5395 non-null int64\n",
            "LFGA       5395 non-null int64\n",
            "LFGM3      5395 non-null int64\n",
            "LFGA3      5395 non-null int64\n",
            "LFTM       5395 non-null int64\n",
            "LFTA       5395 non-null int64\n",
            "LOR        5395 non-null int64\n",
            "LDR        5395 non-null int64\n",
            "LAst       5395 non-null int64\n",
            "LTO        5395 non-null int64\n",
            "LStl       5395 non-null int64\n",
            "LBlk       5395 non-null int64\n",
            "LPF        5395 non-null int64\n",
            "dtypes: int64(33), object(1)\n",
            "memory usage: 1.4+ MB\n"
          ],
          "name": "stdout"
        }
      ]
    },
    {
      "cell_type": "code",
      "metadata": {
        "ExecuteTime": {
          "end_time": "2018-11-24T02:30:23.016665Z",
          "start_time": "2018-11-24T02:30:22.838410Z"
        },
        "id": "9bCQ7JJ6mjUi",
        "colab_type": "code",
        "outputId": "d2c04120-3dbb-4737-836c-5ce9a3f46326",
        "colab": {
          "base_uri": "https://localhost:8080/",
          "height": 316
        }
      },
      "source": [
        "Results2017.describe()"
      ],
      "execution_count": 0,
      "outputs": [
        {
          "output_type": "execute_result",
          "data": {
            "text/html": [
              "<div>\n",
              "<style scoped>\n",
              "    .dataframe tbody tr th:only-of-type {\n",
              "        vertical-align: middle;\n",
              "    }\n",
              "\n",
              "    .dataframe tbody tr th {\n",
              "        vertical-align: top;\n",
              "    }\n",
              "\n",
              "    .dataframe thead th {\n",
              "        text-align: right;\n",
              "    }\n",
              "</style>\n",
              "<table border=\"1\" class=\"dataframe\">\n",
              "  <thead>\n",
              "    <tr style=\"text-align: right;\">\n",
              "      <th></th>\n",
              "      <th>Season</th>\n",
              "      <th>DayNum</th>\n",
              "      <th>WTeamID</th>\n",
              "      <th>WScore</th>\n",
              "      <th>LTeamID</th>\n",
              "      <th>LScore</th>\n",
              "      <th>NumOT</th>\n",
              "      <th>WFGM</th>\n",
              "      <th>WFGA</th>\n",
              "      <th>WFGM3</th>\n",
              "      <th>WFGA3</th>\n",
              "      <th>WFTM</th>\n",
              "      <th>WFTA</th>\n",
              "      <th>WOR</th>\n",
              "      <th>WDR</th>\n",
              "      <th>WAst</th>\n",
              "      <th>WTO</th>\n",
              "      <th>WStl</th>\n",
              "      <th>WBlk</th>\n",
              "      <th>WPF</th>\n",
              "      <th>LFGM</th>\n",
              "      <th>LFGA</th>\n",
              "      <th>LFGM3</th>\n",
              "      <th>LFGA3</th>\n",
              "      <th>LFTM</th>\n",
              "      <th>LFTA</th>\n",
              "      <th>LOR</th>\n",
              "      <th>LDR</th>\n",
              "      <th>LAst</th>\n",
              "      <th>LTO</th>\n",
              "      <th>LStl</th>\n",
              "      <th>LBlk</th>\n",
              "      <th>LPF</th>\n",
              "    </tr>\n",
              "  </thead>\n",
              "  <tbody>\n",
              "    <tr>\n",
              "      <th>count</th>\n",
              "      <td>5395.0</td>\n",
              "      <td>5395.000000</td>\n",
              "      <td>5395.000000</td>\n",
              "      <td>5395.000000</td>\n",
              "      <td>5395.000000</td>\n",
              "      <td>5395.000000</td>\n",
              "      <td>5395.000000</td>\n",
              "      <td>5395.000000</td>\n",
              "      <td>5395.000000</td>\n",
              "      <td>5395.000000</td>\n",
              "      <td>5395.000000</td>\n",
              "      <td>5395.000000</td>\n",
              "      <td>5395.000000</td>\n",
              "      <td>5395.000000</td>\n",
              "      <td>5395.000000</td>\n",
              "      <td>5395.000000</td>\n",
              "      <td>5395.000000</td>\n",
              "      <td>5395.000000</td>\n",
              "      <td>5395.000000</td>\n",
              "      <td>5395.000000</td>\n",
              "      <td>5395.000000</td>\n",
              "      <td>5395.000000</td>\n",
              "      <td>5395.000000</td>\n",
              "      <td>5395.000000</td>\n",
              "      <td>5395.000000</td>\n",
              "      <td>5395.000000</td>\n",
              "      <td>5395.000000</td>\n",
              "      <td>5395.000000</td>\n",
              "      <td>5395.000000</td>\n",
              "      <td>5395.000000</td>\n",
              "      <td>5395.000000</td>\n",
              "      <td>5395.000000</td>\n",
              "      <td>5395.000000</td>\n",
              "    </tr>\n",
              "    <tr>\n",
              "      <th>mean</th>\n",
              "      <td>2017.0</td>\n",
              "      <td>70.796849</td>\n",
              "      <td>1288.622428</td>\n",
              "      <td>78.645783</td>\n",
              "      <td>1280.339203</td>\n",
              "      <td>66.615199</td>\n",
              "      <td>0.075626</td>\n",
              "      <td>27.227618</td>\n",
              "      <td>57.113994</td>\n",
              "      <td>8.011307</td>\n",
              "      <td>20.687488</td>\n",
              "      <td>16.179240</td>\n",
              "      <td>22.509361</td>\n",
              "      <td>10.232437</td>\n",
              "      <td>27.105097</td>\n",
              "      <td>14.988137</td>\n",
              "      <td>12.433920</td>\n",
              "      <td>6.565153</td>\n",
              "      <td>3.868582</td>\n",
              "      <td>17.891381</td>\n",
              "      <td>23.655422</td>\n",
              "      <td>58.328082</td>\n",
              "      <td>6.688230</td>\n",
              "      <td>21.288415</td>\n",
              "      <td>12.616126</td>\n",
              "      <td>18.404263</td>\n",
              "      <td>10.497683</td>\n",
              "      <td>22.932901</td>\n",
              "      <td>11.660426</td>\n",
              "      <td>13.611863</td>\n",
              "      <td>5.628360</td>\n",
              "      <td>2.868026</td>\n",
              "      <td>19.956256</td>\n",
              "    </tr>\n",
              "    <tr>\n",
              "      <th>std</th>\n",
              "      <td>0.0</td>\n",
              "      <td>35.602035</td>\n",
              "      <td>104.357877</td>\n",
              "      <td>11.084819</td>\n",
              "      <td>103.430881</td>\n",
              "      <td>11.062746</td>\n",
              "      <td>0.323113</td>\n",
              "      <td>4.651649</td>\n",
              "      <td>7.118689</td>\n",
              "      <td>3.197153</td>\n",
              "      <td>5.831637</td>\n",
              "      <td>6.266982</td>\n",
              "      <td>8.029588</td>\n",
              "      <td>3.919720</td>\n",
              "      <td>4.944846</td>\n",
              "      <td>4.461080</td>\n",
              "      <td>3.745995</td>\n",
              "      <td>2.955041</td>\n",
              "      <td>2.387313</td>\n",
              "      <td>4.148664</td>\n",
              "      <td>4.374023</td>\n",
              "      <td>7.418264</td>\n",
              "      <td>2.840188</td>\n",
              "      <td>6.037966</td>\n",
              "      <td>5.443477</td>\n",
              "      <td>7.147102</td>\n",
              "      <td>4.075454</td>\n",
              "      <td>4.482068</td>\n",
              "      <td>3.699500</td>\n",
              "      <td>4.053207</td>\n",
              "      <td>2.623722</td>\n",
              "      <td>1.969363</td>\n",
              "      <td>4.575484</td>\n",
              "    </tr>\n",
              "    <tr>\n",
              "      <th>min</th>\n",
              "      <td>2017.0</td>\n",
              "      <td>11.000000</td>\n",
              "      <td>1101.000000</td>\n",
              "      <td>43.000000</td>\n",
              "      <td>1101.000000</td>\n",
              "      <td>27.000000</td>\n",
              "      <td>0.000000</td>\n",
              "      <td>12.000000</td>\n",
              "      <td>36.000000</td>\n",
              "      <td>0.000000</td>\n",
              "      <td>3.000000</td>\n",
              "      <td>0.000000</td>\n",
              "      <td>0.000000</td>\n",
              "      <td>0.000000</td>\n",
              "      <td>13.000000</td>\n",
              "      <td>3.000000</td>\n",
              "      <td>2.000000</td>\n",
              "      <td>0.000000</td>\n",
              "      <td>0.000000</td>\n",
              "      <td>5.000000</td>\n",
              "      <td>9.000000</td>\n",
              "      <td>36.000000</td>\n",
              "      <td>0.000000</td>\n",
              "      <td>1.000000</td>\n",
              "      <td>0.000000</td>\n",
              "      <td>0.000000</td>\n",
              "      <td>1.000000</td>\n",
              "      <td>8.000000</td>\n",
              "      <td>2.000000</td>\n",
              "      <td>1.000000</td>\n",
              "      <td>0.000000</td>\n",
              "      <td>0.000000</td>\n",
              "      <td>6.000000</td>\n",
              "    </tr>\n",
              "    <tr>\n",
              "      <th>25%</th>\n",
              "      <td>2017.0</td>\n",
              "      <td>37.000000</td>\n",
              "      <td>1201.500000</td>\n",
              "      <td>71.000000</td>\n",
              "      <td>1188.000000</td>\n",
              "      <td>59.000000</td>\n",
              "      <td>0.000000</td>\n",
              "      <td>24.000000</td>\n",
              "      <td>52.000000</td>\n",
              "      <td>6.000000</td>\n",
              "      <td>17.000000</td>\n",
              "      <td>12.000000</td>\n",
              "      <td>17.000000</td>\n",
              "      <td>7.000000</td>\n",
              "      <td>24.000000</td>\n",
              "      <td>12.000000</td>\n",
              "      <td>10.000000</td>\n",
              "      <td>4.000000</td>\n",
              "      <td>2.000000</td>\n",
              "      <td>15.000000</td>\n",
              "      <td>21.000000</td>\n",
              "      <td>53.000000</td>\n",
              "      <td>5.000000</td>\n",
              "      <td>17.000000</td>\n",
              "      <td>9.000000</td>\n",
              "      <td>13.000000</td>\n",
              "      <td>8.000000</td>\n",
              "      <td>20.000000</td>\n",
              "      <td>9.000000</td>\n",
              "      <td>11.000000</td>\n",
              "      <td>4.000000</td>\n",
              "      <td>1.000000</td>\n",
              "      <td>17.000000</td>\n",
              "    </tr>\n",
              "    <tr>\n",
              "      <th>50%</th>\n",
              "      <td>2017.0</td>\n",
              "      <td>73.000000</td>\n",
              "      <td>1288.000000</td>\n",
              "      <td>78.000000</td>\n",
              "      <td>1280.000000</td>\n",
              "      <td>66.000000</td>\n",
              "      <td>0.000000</td>\n",
              "      <td>27.000000</td>\n",
              "      <td>57.000000</td>\n",
              "      <td>8.000000</td>\n",
              "      <td>20.000000</td>\n",
              "      <td>16.000000</td>\n",
              "      <td>22.000000</td>\n",
              "      <td>10.000000</td>\n",
              "      <td>27.000000</td>\n",
              "      <td>15.000000</td>\n",
              "      <td>12.000000</td>\n",
              "      <td>6.000000</td>\n",
              "      <td>4.000000</td>\n",
              "      <td>18.000000</td>\n",
              "      <td>24.000000</td>\n",
              "      <td>58.000000</td>\n",
              "      <td>6.000000</td>\n",
              "      <td>21.000000</td>\n",
              "      <td>12.000000</td>\n",
              "      <td>18.000000</td>\n",
              "      <td>10.000000</td>\n",
              "      <td>23.000000</td>\n",
              "      <td>11.000000</td>\n",
              "      <td>13.000000</td>\n",
              "      <td>5.000000</td>\n",
              "      <td>3.000000</td>\n",
              "      <td>20.000000</td>\n",
              "    </tr>\n",
              "    <tr>\n",
              "      <th>75%</th>\n",
              "      <td>2017.0</td>\n",
              "      <td>102.000000</td>\n",
              "      <td>1380.000000</td>\n",
              "      <td>85.000000</td>\n",
              "      <td>1369.000000</td>\n",
              "      <td>74.000000</td>\n",
              "      <td>0.000000</td>\n",
              "      <td>30.000000</td>\n",
              "      <td>62.000000</td>\n",
              "      <td>10.000000</td>\n",
              "      <td>24.000000</td>\n",
              "      <td>20.000000</td>\n",
              "      <td>28.000000</td>\n",
              "      <td>13.000000</td>\n",
              "      <td>30.000000</td>\n",
              "      <td>18.000000</td>\n",
              "      <td>15.000000</td>\n",
              "      <td>8.000000</td>\n",
              "      <td>5.000000</td>\n",
              "      <td>20.000000</td>\n",
              "      <td>27.000000</td>\n",
              "      <td>63.000000</td>\n",
              "      <td>8.000000</td>\n",
              "      <td>25.000000</td>\n",
              "      <td>16.000000</td>\n",
              "      <td>23.000000</td>\n",
              "      <td>13.000000</td>\n",
              "      <td>26.000000</td>\n",
              "      <td>14.000000</td>\n",
              "      <td>16.000000</td>\n",
              "      <td>7.000000</td>\n",
              "      <td>4.000000</td>\n",
              "      <td>23.000000</td>\n",
              "    </tr>\n",
              "    <tr>\n",
              "      <th>max</th>\n",
              "      <td>2017.0</td>\n",
              "      <td>132.000000</td>\n",
              "      <td>1464.000000</td>\n",
              "      <td>131.000000</td>\n",
              "      <td>1464.000000</td>\n",
              "      <td>127.000000</td>\n",
              "      <td>4.000000</td>\n",
              "      <td>54.000000</td>\n",
              "      <td>92.000000</td>\n",
              "      <td>22.000000</td>\n",
              "      <td>53.000000</td>\n",
              "      <td>45.000000</td>\n",
              "      <td>56.000000</td>\n",
              "      <td>28.000000</td>\n",
              "      <td>51.000000</td>\n",
              "      <td>36.000000</td>\n",
              "      <td>28.000000</td>\n",
              "      <td>21.000000</td>\n",
              "      <td>18.000000</td>\n",
              "      <td>36.000000</td>\n",
              "      <td>45.000000</td>\n",
              "      <td>104.000000</td>\n",
              "      <td>19.000000</td>\n",
              "      <td>58.000000</td>\n",
              "      <td>37.000000</td>\n",
              "      <td>54.000000</td>\n",
              "      <td>34.000000</td>\n",
              "      <td>49.000000</td>\n",
              "      <td>30.000000</td>\n",
              "      <td>40.000000</td>\n",
              "      <td>19.000000</td>\n",
              "      <td>15.000000</td>\n",
              "      <td>38.000000</td>\n",
              "    </tr>\n",
              "  </tbody>\n",
              "</table>\n",
              "</div>"
            ],
            "text/plain": [
              "       Season       DayNum      WTeamID  ...         LStl         LBlk          LPF\n",
              "count  5395.0  5395.000000  5395.000000  ...  5395.000000  5395.000000  5395.000000\n",
              "mean   2017.0    70.796849  1288.622428  ...     5.628360     2.868026    19.956256\n",
              "std       0.0    35.602035   104.357877  ...     2.623722     1.969363     4.575484\n",
              "min    2017.0    11.000000  1101.000000  ...     0.000000     0.000000     6.000000\n",
              "25%    2017.0    37.000000  1201.500000  ...     4.000000     1.000000    17.000000\n",
              "50%    2017.0    73.000000  1288.000000  ...     5.000000     3.000000    20.000000\n",
              "75%    2017.0   102.000000  1380.000000  ...     7.000000     4.000000    23.000000\n",
              "max    2017.0   132.000000  1464.000000  ...    19.000000    15.000000    38.000000\n",
              "\n",
              "[8 rows x 33 columns]"
            ]
          },
          "metadata": {
            "tags": []
          },
          "execution_count": 11
        }
      ]
    },
    {
      "cell_type": "code",
      "metadata": {
        "ExecuteTime": {
          "end_time": "2018-11-16T01:34:01.625345Z",
          "start_time": "2018-11-16T01:34:01.144755Z"
        },
        "id": "r35mSS2ymjUk",
        "colab_type": "code",
        "outputId": "80f9889e-6ab6-4073-ea22-b1e2990545e6",
        "colab": {
          "base_uri": "https://localhost:8080/",
          "height": 282
        }
      },
      "source": [
        "Results2017['WScore'].hist()"
      ],
      "execution_count": 0,
      "outputs": [
        {
          "output_type": "execute_result",
          "data": {
            "text/plain": [
              "<matplotlib.axes._subplots.AxesSubplot at 0x7f629cbf2e48>"
            ]
          },
          "metadata": {
            "tags": []
          },
          "execution_count": 12
        },
        {
          "output_type": "display_data",
          "data": {
            "image/png": "[encoded data removed]",
            "text/plain": [
              "<Figure size 432x288 with 1 Axes>"
            ]
          },
          "metadata": {
            "tags": []
          }
        }
      ]
    },
    {
      "cell_type": "code",
      "metadata": {
        "ExecuteTime": {
          "end_time": "2018-11-16T01:39:03.661144Z",
          "start_time": "2018-11-16T01:39:03.366966Z"
        },
        "id": "V8LytR31mjUm",
        "colab_type": "code",
        "outputId": "180bc11b-e7a6-4279-ceff-3487ec157736",
        "colab": {
          "base_uri": "https://localhost:8080/",
          "height": 296
        }
      },
      "source": [
        "Results2017.plot(kind=\"scatter\", x=\"LScore\", y=\"WScore\", alpha=0.1)"
      ],
      "execution_count": 0,
      "outputs": [
        {
          "output_type": "execute_result",
          "data": {
            "text/plain": [
              "<matplotlib.axes._subplots.AxesSubplot at 0x7f629c6bbe80>"
            ]
          },
          "metadata": {
            "tags": []
          },
          "execution_count": 13
        },
        {
          "output_type": "display_data",
          "data": {
            "image/png": "[encoded data removed]",
            "text/plain": [
              "<Figure size 432x288 with 1 Axes>"
            ]
          },
          "metadata": {
            "tags": []
          }
        }
      ]
    },
    {
      "cell_type": "code",
      "metadata": {
        "id": "DYFl-HpxmjUo",
        "colab_type": "code",
        "colab": {}
      },
      "source": [
        ""
      ],
      "execution_count": 0,
      "outputs": []
    },
    {
      "cell_type": "code",
      "metadata": {
        "ExecuteTime": {
          "end_time": "2018-11-16T01:11:44.786689Z",
          "start_time": "2018-11-16T01:11:44.768841Z"
        },
        "id": "M9qgtti-mjUr",
        "colab_type": "code",
        "outputId": "6fade30e-07b6-4249-a704-735d969bf738",
        "colab": {
          "base_uri": "https://localhost:8080/",
          "height": 87
        }
      },
      "source": [
        "Results2017['WLoc'].value_counts()"
      ],
      "execution_count": 0,
      "outputs": [
        {
          "output_type": "execute_result",
          "data": {
            "text/plain": [
              "H    3093\n",
              "A    1704\n",
              "N     598\n",
              "Name: WLoc, dtype: int64"
            ]
          },
          "metadata": {
            "tags": []
          },
          "execution_count": 14
        }
      ]
    },
    {
      "cell_type": "code",
      "metadata": {
        "ExecuteTime": {
          "end_time": "2018-11-16T01:08:48.960112Z",
          "start_time": "2018-11-16T01:08:48.946636Z"
        },
        "id": "lTAKTnZMmjUu",
        "colab_type": "code",
        "outputId": "690b7fc4-578b-4d07-aad5-5513320c2c22",
        "colab": {
          "base_uri": "https://localhost:8080/",
          "height": 34
        }
      },
      "source": [
        "#Average Margin of victory\n",
        "(Results2017['WScore']-Results2017['LScore']).mean()"
      ],
      "execution_count": 0,
      "outputs": [
        {
          "output_type": "execute_result",
          "data": {
            "text/plain": [
              "12.030583873957369"
            ]
          },
          "metadata": {
            "tags": []
          },
          "execution_count": 15
        }
      ]
    },
    {
      "cell_type": "code",
      "metadata": {
        "ExecuteTime": {
          "end_time": "2018-11-16T01:13:44.222774Z",
          "start_time": "2018-11-16T01:13:44.209837Z"
        },
        "id": "Q8ICHcg5mjUw",
        "colab_type": "code",
        "outputId": "71c14146-9fa7-444a-f17a-d83e3ef873d5",
        "colab": {
          "base_uri": "https://localhost:8080/",
          "height": 34
        }
      },
      "source": [
        "# Average Turnover Differential\n",
        "(Results2017['LTO']-Results2017['WTO']).mean()"
      ],
      "execution_count": 0,
      "outputs": [
        {
          "output_type": "execute_result",
          "data": {
            "text/plain": [
              "1.1779425393883225"
            ]
          },
          "metadata": {
            "tags": []
          },
          "execution_count": 16
        }
      ]
    },
    {
      "cell_type": "code",
      "metadata": {
        "ExecuteTime": {
          "end_time": "2018-11-16T01:14:44.609609Z",
          "start_time": "2018-11-16T01:14:44.595504Z"
        },
        "id": "9rKppCXlmjUx",
        "colab_type": "code",
        "outputId": "0ba29216-9f91-40b8-d5b2-653898be2824",
        "colab": {
          "base_uri": "https://localhost:8080/",
          "height": 34
        }
      },
      "source": [
        "# Average 3 Pointer Made Differential\n",
        "(Results2017['WFGM3']-Results2017['LFGM3']).mean()"
      ],
      "execution_count": 0,
      "outputs": [
        {
          "output_type": "execute_result",
          "data": {
            "text/plain": [
              "1.323076923076923"
            ]
          },
          "metadata": {
            "tags": []
          },
          "execution_count": 17
        }
      ]
    },
    {
      "cell_type": "code",
      "metadata": {
        "ExecuteTime": {
          "end_time": "2018-11-16T01:16:28.408146Z",
          "start_time": "2018-11-16T01:16:28.396080Z"
        },
        "id": "ZxaxKPXfmjUz",
        "colab_type": "code",
        "outputId": "9f504492-5c29-43e6-ef20-4462523d1975",
        "colab": {
          "base_uri": "https://localhost:8080/",
          "height": 34
        }
      },
      "source": [
        "# Average Assist Differential\n",
        "(Results2017['WAst']-Results2017['LAst']).mean()"
      ],
      "execution_count": 0,
      "outputs": [
        {
          "output_type": "execute_result",
          "data": {
            "text/plain": [
              "3.327710843373494"
            ]
          },
          "metadata": {
            "tags": []
          },
          "execution_count": 18
        }
      ]
    },
    {
      "cell_type": "code",
      "metadata": {
        "ExecuteTime": {
          "end_time": "2018-11-16T01:17:21.446952Z",
          "start_time": "2018-11-16T01:17:21.431981Z"
        },
        "id": "233Poc3RmjU2",
        "colab_type": "code",
        "outputId": "bd3f6bb8-17a1-4914-e4b9-ba1594d62781",
        "colab": {
          "base_uri": "https://localhost:8080/",
          "height": 34
        }
      },
      "source": [
        "# Average Free Throw Attempted Differential\n",
        "(Results2017['WFTA']-Results2017['LFTA']).mean()"
      ],
      "execution_count": 0,
      "outputs": [
        {
          "output_type": "execute_result",
          "data": {
            "text/plain": [
              "4.105097312326228"
            ]
          },
          "metadata": {
            "tags": []
          },
          "execution_count": 19
        }
      ]
    },
    {
      "cell_type": "markdown",
      "metadata": {
        "id": "FM7U_4NJmjU4",
        "colab_type": "text"
      },
      "source": [
        "Per Season statistics on game location, home/away winner, and what day of the season 80% of games were completed"
      ]
    },
    {
      "cell_type": "code",
      "metadata": {
        "ExecuteTime": {
          "end_time": "2018-11-24T16:38:10.137110Z",
          "start_time": "2018-11-24T16:38:09.257155Z"
        },
        "id": "3UmOK_nvmjU5",
        "colab_type": "code",
        "colab": {}
      },
      "source": [
        "SeasonStats = Results['Season'].value_counts()\n",
        "SeasonStats = SeasonStats.rename('NumGames')\n",
        "\n",
        "SeasonStats = pd.concat([SeasonStats,Results['Season'].loc[Results.WLoc == 'N'].value_counts()],axis=1)\n",
        "SeasonStats = SeasonStats.rename(columns={'Season':'NeutralSiteGames'})\n",
        "\n",
        "SeasonStats = pd.concat([SeasonStats,Results['Season'].loc[Results.WLoc != 'N'].value_counts()],axis=1)\n",
        "SeasonStats = SeasonStats.rename(columns={'Season':'NonNeutralGames'})\n",
        "\n",
        "SeasonStats = pd.concat([SeasonStats,Results['Season'].loc[Results.WLoc == 'H'].value_counts()],axis=1)\n",
        "SeasonStats = SeasonStats.rename(columns={'Season':'HomeWins'})\n",
        "\n",
        "SeasonStats = pd.concat([SeasonStats,Results['Season'].loc[Results.WLoc == 'A'].value_counts()],axis=1)\n",
        "SeasonStats = SeasonStats.rename(columns={'Season':'AwayWins'})\n",
        "\n",
        "\n",
        "SeasonStats['HomeLosePct'] = np.round((SeasonStats.AwayWins / SeasonStats.NonNeutralGames),2)\n",
        "\n",
        "SeasonStats['DayNum80'] = 0\n",
        "\n",
        "\n",
        "for s in SeasonStats.index:\n",
        "    x = Results['DayNum'].loc[Results.Season == s]\n",
        "    SeasonStats['DayNum80'].loc[s] = x.iloc[round(len(x)*.8)]"
      ],
      "execution_count": 0,
      "outputs": []
    },
    {
      "cell_type": "code",
      "metadata": {
        "ExecuteTime": {
          "end_time": "2018-11-24T16:38:12.393605Z",
          "start_time": "2018-11-24T16:38:12.363784Z"
        },
        "id": "JJY4seUYmjU7",
        "colab_type": "code",
        "outputId": "64e2a91c-0401-41c0-9fdf-85e1d1c5abbe",
        "colab": {
          "base_uri": "https://localhost:8080/",
          "height": 543
        }
      },
      "source": [
        "SeasonStats"
      ],
      "execution_count": 0,
      "outputs": [
        {
          "output_type": "execute_result",
          "data": {
            "text/html": [
              "<div>\n",
              "<style scoped>\n",
              "    .dataframe tbody tr th:only-of-type {\n",
              "        vertical-align: middle;\n",
              "    }\n",
              "\n",
              "    .dataframe tbody tr th {\n",
              "        vertical-align: top;\n",
              "    }\n",
              "\n",
              "    .dataframe thead th {\n",
              "        text-align: right;\n",
              "    }\n",
              "</style>\n",
              "<table border=\"1\" class=\"dataframe\">\n",
              "  <thead>\n",
              "    <tr style=\"text-align: right;\">\n",
              "      <th></th>\n",
              "      <th>NumGames</th>\n",
              "      <th>NeutralSiteGames</th>\n",
              "      <th>NonNeutralGames</th>\n",
              "      <th>HomeWins</th>\n",
              "      <th>AwayWins</th>\n",
              "      <th>HomeLosePct</th>\n",
              "      <th>DayNum80</th>\n",
              "    </tr>\n",
              "  </thead>\n",
              "  <tbody>\n",
              "    <tr>\n",
              "      <th>2003</th>\n",
              "      <td>4616</td>\n",
              "      <td>418</td>\n",
              "      <td>4198</td>\n",
              "      <td>2812</td>\n",
              "      <td>1386</td>\n",
              "      <td>0.33</td>\n",
              "      <td>108</td>\n",
              "    </tr>\n",
              "    <tr>\n",
              "      <th>2004</th>\n",
              "      <td>4571</td>\n",
              "      <td>415</td>\n",
              "      <td>4156</td>\n",
              "      <td>2749</td>\n",
              "      <td>1407</td>\n",
              "      <td>0.34</td>\n",
              "      <td>108</td>\n",
              "    </tr>\n",
              "    <tr>\n",
              "      <th>2005</th>\n",
              "      <td>4675</td>\n",
              "      <td>439</td>\n",
              "      <td>4236</td>\n",
              "      <td>2849</td>\n",
              "      <td>1387</td>\n",
              "      <td>0.33</td>\n",
              "      <td>108</td>\n",
              "    </tr>\n",
              "    <tr>\n",
              "      <th>2006</th>\n",
              "      <td>4757</td>\n",
              "      <td>441</td>\n",
              "      <td>4316</td>\n",
              "      <td>2866</td>\n",
              "      <td>1450</td>\n",
              "      <td>0.34</td>\n",
              "      <td>108</td>\n",
              "    </tr>\n",
              "    <tr>\n",
              "      <th>2007</th>\n",
              "      <td>5043</td>\n",
              "      <td>504</td>\n",
              "      <td>4539</td>\n",
              "      <td>3066</td>\n",
              "      <td>1473</td>\n",
              "      <td>0.32</td>\n",
              "      <td>107</td>\n",
              "    </tr>\n",
              "    <tr>\n",
              "      <th>2008</th>\n",
              "      <td>5163</td>\n",
              "      <td>505</td>\n",
              "      <td>4658</td>\n",
              "      <td>3093</td>\n",
              "      <td>1565</td>\n",
              "      <td>0.34</td>\n",
              "      <td>106</td>\n",
              "    </tr>\n",
              "    <tr>\n",
              "      <th>2009</th>\n",
              "      <td>5249</td>\n",
              "      <td>521</td>\n",
              "      <td>4728</td>\n",
              "      <td>3139</td>\n",
              "      <td>1589</td>\n",
              "      <td>0.34</td>\n",
              "      <td>107</td>\n",
              "    </tr>\n",
              "    <tr>\n",
              "      <th>2010</th>\n",
              "      <td>5263</td>\n",
              "      <td>530</td>\n",
              "      <td>4733</td>\n",
              "      <td>3128</td>\n",
              "      <td>1605</td>\n",
              "      <td>0.34</td>\n",
              "      <td>107</td>\n",
              "    </tr>\n",
              "    <tr>\n",
              "      <th>2011</th>\n",
              "      <td>5246</td>\n",
              "      <td>546</td>\n",
              "      <td>4700</td>\n",
              "      <td>3102</td>\n",
              "      <td>1598</td>\n",
              "      <td>0.34</td>\n",
              "      <td>107</td>\n",
              "    </tr>\n",
              "    <tr>\n",
              "      <th>2012</th>\n",
              "      <td>5253</td>\n",
              "      <td>520</td>\n",
              "      <td>4733</td>\n",
              "      <td>3119</td>\n",
              "      <td>1614</td>\n",
              "      <td>0.34</td>\n",
              "      <td>107</td>\n",
              "    </tr>\n",
              "    <tr>\n",
              "      <th>2013</th>\n",
              "      <td>5320</td>\n",
              "      <td>547</td>\n",
              "      <td>4773</td>\n",
              "      <td>3136</td>\n",
              "      <td>1637</td>\n",
              "      <td>0.34</td>\n",
              "      <td>105</td>\n",
              "    </tr>\n",
              "    <tr>\n",
              "      <th>2014</th>\n",
              "      <td>5362</td>\n",
              "      <td>578</td>\n",
              "      <td>4784</td>\n",
              "      <td>3113</td>\n",
              "      <td>1671</td>\n",
              "      <td>0.35</td>\n",
              "      <td>107</td>\n",
              "    </tr>\n",
              "    <tr>\n",
              "      <th>2015</th>\n",
              "      <td>5354</td>\n",
              "      <td>556</td>\n",
              "      <td>4798</td>\n",
              "      <td>3117</td>\n",
              "      <td>1681</td>\n",
              "      <td>0.35</td>\n",
              "      <td>107</td>\n",
              "    </tr>\n",
              "    <tr>\n",
              "      <th>2016</th>\n",
              "      <td>5369</td>\n",
              "      <td>575</td>\n",
              "      <td>4794</td>\n",
              "      <td>3129</td>\n",
              "      <td>1665</td>\n",
              "      <td>0.35</td>\n",
              "      <td>107</td>\n",
              "    </tr>\n",
              "    <tr>\n",
              "      <th>2017</th>\n",
              "      <td>5395</td>\n",
              "      <td>598</td>\n",
              "      <td>4797</td>\n",
              "      <td>3093</td>\n",
              "      <td>1704</td>\n",
              "      <td>0.36</td>\n",
              "      <td>107</td>\n",
              "    </tr>\n",
              "    <tr>\n",
              "      <th>2018</th>\n",
              "      <td>5405</td>\n",
              "      <td>618</td>\n",
              "      <td>4787</td>\n",
              "      <td>3173</td>\n",
              "      <td>1614</td>\n",
              "      <td>0.34</td>\n",
              "      <td>108</td>\n",
              "    </tr>\n",
              "  </tbody>\n",
              "</table>\n",
              "</div>"
            ],
            "text/plain": [
              "      NumGames  NeutralSiteGames  ...  HomeLosePct  DayNum80\n",
              "2003      4616               418  ...         0.33       108\n",
              "2004      4571               415  ...         0.34       108\n",
              "2005      4675               439  ...         0.33       108\n",
              "2006      4757               441  ...         0.34       108\n",
              "2007      5043               504  ...         0.32       107\n",
              "2008      5163               505  ...         0.34       106\n",
              "2009      5249               521  ...         0.34       107\n",
              "2010      5263               530  ...         0.34       107\n",
              "2011      5246               546  ...         0.34       107\n",
              "2012      5253               520  ...         0.34       107\n",
              "2013      5320               547  ...         0.34       105\n",
              "2014      5362               578  ...         0.35       107\n",
              "2015      5354               556  ...         0.35       107\n",
              "2016      5369               575  ...         0.35       107\n",
              "2017      5395               598  ...         0.36       107\n",
              "2018      5405               618  ...         0.34       108\n",
              "\n",
              "[16 rows x 7 columns]"
            ]
          },
          "metadata": {
            "tags": []
          },
          "execution_count": 21
        }
      ]
    },
    {
      "cell_type": "code",
      "metadata": {
        "ExecuteTime": {
          "end_time": "2018-11-15T21:31:51.249064Z",
          "start_time": "2018-11-15T21:31:43.546293Z"
        },
        "id": "4NmuCjAdmjU8",
        "colab_type": "code",
        "outputId": "c20adab9-ae0e-453e-875d-e130d1cd01b3",
        "colab": {
          "base_uri": "https://localhost:8080/",
          "height": 879
        }
      },
      "source": [
        "%matplotlib inline\n",
        "import matplotlib.pyplot as plt\n",
        "HomeAwayResults.hist(bins=50, figsize=(20,15))\n",
        "plt.show()"
      ],
      "execution_count": 0,
      "outputs": [
        {
          "output_type": "display_data",
          "data": {
            "image/png": "[encoded data removed]",
            "text/plain": [
              "<Figure size 1440x1080 with 36 Axes>"
            ]
          },
          "metadata": {
            "tags": []
          }
        }
      ]
    },
    {
      "cell_type": "code",
      "metadata": {
        "id": "gNVFCqpymjU-",
        "colab_type": "code",
        "colab": {}
      },
      "source": [
        ""
      ],
      "execution_count": 0,
      "outputs": []
    },
    {
      "cell_type": "markdown",
      "metadata": {
        "id": "LWB79MCQmjVA",
        "colab_type": "text"
      },
      "source": [
        "# Feature Engineering"
      ]
    },
    {
      "cell_type": "markdown",
      "metadata": {
        "id": "cDc8VxBKmjVA",
        "colab_type": "text"
      },
      "source": [
        "First we removed the team performance variables that directly impact the result of the game.  Any of the fields\n",
        "That indicated points scored was removed.  Instead we created new fields that showed the shooting percentage.\n",
        "Shooting percentage is indicative of performance without giving a 1-to-1 ratio to winning.\n",
        " \n",
        "After completing many logistic regressions runs using Lasso and Ridge, we evaluated the most impactful coefficients\n",
        "We fount that 3-point shooting, defensive rebounds and turnovers seemed to always be the most important.\n",
        "To capitalize on this, we created many new features that compared the ratio of these variables between the two\n",
        "competing teams.  In our initial runs, we found that these variables increased the overall accuracy of the model by 5%\n",
        "This looks like a good area to look at in future runs."
      ]
    },
    {
      "cell_type": "code",
      "metadata": {
        "ExecuteTime": {
          "end_time": "2018-12-08T22:02:19.061837Z",
          "start_time": "2018-12-08T22:02:19.035835Z"
        },
        "id": "dZoYwx5EmjVB",
        "colab_type": "code",
        "colab": {}
      },
      "source": [
        "###############################################################################\n",
        "\n",
        "HomeAwayResults['HFGM2']=HomeAwayResults['HFGM'] - HomeAwayResults['HFGM3'] #HOME 2 POINT FIELD GOALS MADE\n",
        "HomeAwayResults['AFGM2']=HomeAwayResults['AFGM'] - HomeAwayResults['AFGM3'] #AWAY 2 POINT FILED GOALS MADE\n",
        "HomeAwayResults['HFGA2']=HomeAwayResults['HFGA'] - HomeAwayResults['HFGA3'] #HOME 2 POINT FIELD GOALS ATTEMPTED\n",
        "HomeAwayResults['AFGA2']=HomeAwayResults['AFGA'] - HomeAwayResults['AFGA3'] #AWAY 2 POINT FIELD GOALS ATTEMPTED\n",
        "\n",
        "HomeAwayResults['HFGP']=HomeAwayResults['HFGM'] / HomeAwayResults['HFGA'] #HOME FIELD GOALS PERCENTAGE MADE - ALL\n",
        "HomeAwayResults['AFGP']=HomeAwayResults['AFGM'] / HomeAwayResults['AFGA'] #AWAY FIELD GOALS PERCENTAGE MADE - ALL\n",
        "HomeAwayResults['HFGP2']=HomeAwayResults['HFGM2'] / HomeAwayResults['HFGA2'] #HOME FIELD GOALS PERCENTAGE MADE - 2 PT\n",
        "HomeAwayResults['AFGP2']=HomeAwayResults['AFGM2'] / HomeAwayResults['AFGA2'] #AWAY FIELD GOALS PERCENTAGE MADE - 2 PT\n",
        "HomeAwayResults['HFGP3']=HomeAwayResults['HFGM3'] / HomeAwayResults['HFGA3'] #HOME FIELD GOALS PERCENTAGE MADE - 3 PT\n",
        "HomeAwayResults['AFGP3']=HomeAwayResults['AFGM3'] / HomeAwayResults['AFGA3'] #AWAY FIELD GOALS PERCENTAGE MADE - 3 PT\n",
        "###############################################################################\n",
        "# Features created in Phase 1\n",
        "HomeAwayResults['HTORC']=HomeAwayResults['HTO'] / HomeAwayResults['ATO'] #HOME TURNOVER RATIO VS COMPETITOR \n",
        "HomeAwayResults['ATORC']=HomeAwayResults['ATO'] / HomeAwayResults['HTO'] #AWAY TURNOVER RATIO VS COMPETITOR\n",
        "HomeAwayResults['HDRR']=HomeAwayResults['HDR'] / HomeAwayResults['ADR'] #HOME DEFENSIVE REBOUND RATION VS COMPETITOR\n",
        "HomeAwayResults['ADRR']=HomeAwayResults['ADR'] / HomeAwayResults['HDR'] #AWAY DEFENSIVE REBOUND RATION VS COMPETITOR\n",
        "HomeAwayResults['APFR']=HomeAwayResults['APF'] / HomeAwayResults['HPF'] #AWAY PERSONAL FOUL RATIO VS COMPETITOR\n",
        "HomeAwayResults['HPFR']=HomeAwayResults['HPF'] / HomeAwayResults['APF'] #HOME PERSONAL FOUL RATIO VS COMPETITOR\n",
        "HomeAwayResults['ATODR']=HomeAwayResults['ATO'] + HomeAwayResults['HDR'] #AWAY TEAM LOST POSSESSIONS: TURNOVERS + COMPETITORS DEF REBOUNDS\n",
        "HomeAwayResults['HTODR']=HomeAwayResults['HTO'] + HomeAwayResults['ADR'] #HOME TEAM LOST POSSESSIONS: TURNOVERS + COMPETITORS DEF REBOUNDS\n",
        "HomeAwayResults['ATODRR']=HomeAwayResults['ATODR'] / HomeAwayResults['HTODR'] #HOME TEAM LOST POSSESSIONS RATIO\n",
        "HomeAwayResults['HTODRR']=HomeAwayResults['HTODR'] / HomeAwayResults['ATODR'] #AWAY TEAM LOST POSSESSIONS: RATIO\n",
        "HomeAwayResults['H3VTO']=HomeAwayResults['HFGP3'] / HomeAwayResults['HTODRR'] #HOME 3PTS OVERCOMING TURNOVER RATIO\n",
        "HomeAwayResults['A3VTO']=HomeAwayResults['AFGP3'] / HomeAwayResults['ATODRR'] #AWAY 3PTS OVERCOMING TURNOVER RATIO\n"
      ],
      "execution_count": 0,
      "outputs": []
    },
    {
      "cell_type": "code",
      "metadata": {
        "ExecuteTime": {
          "end_time": "2018-12-08T22:02:21.589982Z",
          "start_time": "2018-12-08T22:02:21.554980Z"
        },
        "id": "11zmhkywmjVG",
        "colab_type": "code",
        "colab": {}
      },
      "source": [
        "###############################################################################\n",
        "# New Features Phase 2\n",
        "###############################################################################\n",
        "# Number of Possessions\n",
        "HomeAwayResults['HPoss']= (HomeAwayResults['HFGA'] - HomeAwayResults['HOR'] + HomeAwayResults['HTO'] + (0.44 * HomeAwayResults['HFTA'])) # HOME Number of Possessions\n",
        "HomeAwayResults['APoss']= (HomeAwayResults['AFGA'] - HomeAwayResults['AOR'] + HomeAwayResults['ATO'] + (0.44 * HomeAwayResults['AFTA'])) # AWAY Number of Possessions\n",
        "\n",
        "# \"Four Factors\"\n",
        "HomeAwayResults['HeFGP'] = ((HomeAwayResults['HFGM'] + (0.5*HomeAwayResults['HFGM3'])) / HomeAwayResults['HFGA']) # HOME Effective Field Goal Perc (0.4)\n",
        "HomeAwayResults['AeFGP'] = ((HomeAwayResults['AFGM'] + (0.5*HomeAwayResults['AFGM3'])) / HomeAwayResults['AFGA']) # AWAY Effective Field Goal Perc (0.4)\n",
        "\n",
        "HomeAwayResults['HTOR'] = (HomeAwayResults['HTO'] / HomeAwayResults['HPoss']) # HOME Turnover Perc (0.25)\n",
        "HomeAwayResults['ATOR'] = (HomeAwayResults['ATO'] / HomeAwayResults['APoss']) # AWAY Turnover Perc (0.25)\n",
        "\n",
        "HomeAwayResults['HORR'] = HomeAwayResults['HOR'] / (HomeAwayResults['HOR'] + HomeAwayResults['ADR']) #HOME Off Rebound Rate (0.2)\n",
        "HomeAwayResults['AORR'] = HomeAwayResults['AOR'] / (HomeAwayResults['AOR'] + HomeAwayResults['HDR']) #AWAY Off Rebound Rate (0.2)\n",
        "\n",
        "HomeAwayResults['HFTR'] = (HomeAwayResults['HFTA'] / HomeAwayResults['HFGA']) # HOME Free Throw Rate (0.15)\n",
        "HomeAwayResults['AFTR'] = (HomeAwayResults['AFTA'] / HomeAwayResults['AFGA']) # AWAY Free Throw Rate (0.15)\n",
        "\n",
        "# Off and Def Efficiency\n",
        "HomeAwayResults['HOffEf'] = ((HomeAwayResults['HScore']*100) / HomeAwayResults['HPoss']) # HOME Offensive Efficiency\n",
        "HomeAwayResults['AOffEf'] = ((HomeAwayResults['AScore']*100) / HomeAwayResults['APoss']) # AWAY Offensive Efficiency\n",
        "\n",
        "HomeAwayResults['HDefEf'] = ((HomeAwayResults['AScore']*100) / HomeAwayResults['APoss']) # HOME Defensive Efficiency\n",
        "HomeAwayResults['ADefEf'] = ((HomeAwayResults['HScore']*100) / HomeAwayResults['HPoss']) # HOME Defensive Efficiency\n",
        "\n",
        "\n",
        "###############################################################################"
      ],
      "execution_count": 0,
      "outputs": []
    },
    {
      "cell_type": "markdown",
      "metadata": {
        "id": "h0X84AQzmjVH",
        "colab_type": "text"
      },
      "source": [
        "# Data Prep"
      ]
    },
    {
      "cell_type": "markdown",
      "metadata": {
        "id": "uVUF-kEPmjVI",
        "colab_type": "text"
      },
      "source": [
        "Because our problem resembles a time series analysis problem, we won't create a random 80/20 split\n",
        "of our dataset using train_test_split, or any similar function. \n",
        "Our training set will be the first 80 percent of games in the season, and our test set will be final \n",
        "20 percent of games. \n",
        "We aren't using the actual game statistics for those games in the test set, but rather each team's \n",
        "home and away averages from the first 80 percent of games, thus simulating predicting the outcome \n",
        "of the game before the game starts."
      ]
    },
    {
      "cell_type": "code",
      "metadata": {
        "ExecuteTime": {
          "end_time": "2018-12-08T22:02:25.733218Z",
          "start_time": "2018-12-08T22:02:25.714217Z"
        },
        "id": "KFPJqkFUmjVI",
        "colab_type": "code",
        "colab": {}
      },
      "source": [
        "def completeAverages():\n",
        "    TeamAvgH['HFGM2']=TeamSumH['HFGM'] - TeamSumH['HFGM3'] #HOME 2 POINT FIELD GOALS MADE\n",
        "    TeamAvgA['AFGM2']=TeamSumA['AFGM'] - TeamSumA['AFGM3'] #AWAY 2 POINT FILED GOALS MADE\n",
        "    TeamAvgH['HFGA2']=TeamSumH['HFGA'] - TeamSumH['HFGA3'] #HOME 2 POINT FIELD GOALS ATTEMPTED\n",
        "    TeamAvgA['AFGA2']=TeamSumA['AFGA'] - TeamSumA['AFGA3'] #AWAY 2 POINT FIELD GOALS ATTEMPTED\n",
        "\n",
        "    TeamAvgH['HFGP']=TeamSumH['HFGM'] / TeamSumH['HFGA'] #HOME FIELD GOALS PERCENTAGE MADE - ALL\n",
        "    TeamAvgA['AFGP']=TeamSumA['AFGM'] / TeamSumA['AFGA'] #AWAY FIELD GOALS PERCENTAGE MADE - ALL\n",
        "    TeamAvgH['HFGP2']=TeamSumH['HFGM2'] / TeamSumH['HFGA2'] #HOME FIELD GOALS PERCENTAGE MADE - 2 PT\n",
        "    TeamAvgA['AFGP2']=TeamSumA['AFGM2'] / TeamSumA['AFGA2'] #AWAY FIELD GOALS PERCENTAGE MADE - 2 PT\n",
        "    TeamAvgH['HFGP3']=TeamSumH['HFGM3'] / TeamSumH['HFGA3'] #HOME FIELD GOALS PERCENTAGE MADE - 3 PT\n",
        "    TeamAvgA['AFGP3']=TeamSumA['AFGM3'] / TeamSumA['AFGA3'] #AWAY FIELD GOALS PERCENTAGE MADE - 3 PT\n",
        "# Features created in Phase 1\n",
        "    TeamAvgH['HTORC']=TeamSumH['HTO'] / TeamSumA['ATO'] #HOME TURNOVER RATIO VS COMPETITOR \n",
        "    TeamAvgA['ATORC']=TeamSumA['ATO'] / TeamSumH['HTO'] #AWAY TURNOVER RATIO VS COMPETITOR\n",
        "    TeamAvgH['HDRR']=TeamSumH['HDR'] / TeamSumA['ADR'] #HOME DEFENSIVE REBOUND RATION VS COMPETITOR\n",
        "    TeamAvgA['ADRR']=TeamSumA['ADR'] / TeamSumH['HDR'] #AWAY DEFENSIVE REBOUND RATION VS COMPETITOR\n",
        "    TeamAvgH['HPFR']=TeamSumH['HPF'] / TeamSumA['APF'] #HOME PERSONAL FOUL RATIO VS COMPETITOR\n",
        "    TeamAvgA['APFR']=TeamSumA['APF'] / TeamSumH['HPF'] #AWAY PERSONAL FOUL RATIO VS COMPETITOR\n",
        "    TeamAvgH['HTODR']=TeamSumH['HTO'] + TeamSumA['ADR'] #HOME TEAM LOST POSSESSIONS: TURNOVERS + COMPETITORS DEF REBOUNDS\n",
        "    TeamAvgA['ATODR']=TeamSumA['ATO'] + TeamSumH['HDR'] #AWAY TEAM LOST POSSESSIONS: TURNOVERS + COMPETITORS DEF REBOUNDS\n",
        "    TeamAvgH['HTODRR']=TeamSumH['HTODR'] / TeamSumA['ATODR'] #HOME TEAM LOST POSSESSIONS RATIO\n",
        "    TeamAvgA['ATODRR']=TeamSumA['ATODR'] / TeamSumH['HTODR'] #AWAY TEAM LOST POSSESSIONS: RATIO\n",
        "    TeamAvgH['H3VTO']=TeamSumH['HFGP3'] / TeamSumH['HTODRR'] #HOME 3PTS OVERCOMING TURNOVER RATIO\n",
        "    TeamAvgA['A3VTO']=TeamSumA['AFGP3'] / TeamSumA['ATODRR'] #AWAY 3PTS OVERCOMING TURNOVER RATIO\n",
        "# New Features Phase 2\n",
        "\n",
        "    TeamAvgH['HPoss']= (TeamSumH['HFGA'] - TeamSumH['HOR'] + TeamSumH['HTO'] + (0.44 * TeamSumH['HFTA'])) # HOME Number of Possessions\n",
        "    TeamAvgA['APoss']= (TeamSumA['AFGA'] - TeamSumA['AOR'] + TeamSumA['ATO'] + (0.44 * TeamSumA['AFTA'])) # AWAY Number of Possessions\n",
        "\n",
        "# \"Four Factors\"\n",
        "    TeamAvgH['HeFGP'] = ((TeamSumH['HFGM'] + (0.5*TeamSumH['HFGM3'])) / TeamSumH['HFGA']) # HOME Effective Field Goal Perc (0.4)\n",
        "    TeamAvgA['AeFGP'] = ((TeamSumA['AFGM'] + (0.5*TeamSumA['AFGM3'])) / TeamSumA['AFGA']) # AWAY Effective Field Goal Perc (0.4)\n",
        "    \n",
        "    TeamAvgH['HTOR'] = (TeamSumH['HTO'] / TeamSumH['HPoss']) # HOME Turnover Perc (0.25)\n",
        "    TeamAvgA['ATOR'] = (TeamSumA['ATO'] / TeamSumA['APoss']) # AWAY Turnover Perc (0.25)\n",
        "    \n",
        "    TeamAvgH['HORR'] = TeamSumH['HOR'] / (TeamSumH['HOR'] + TeamSumH['ADR']) #HOME Off Rebound Rate (0.2)\n",
        "    TeamAvgA['AORR'] = TeamSumA['AOR'] / (TeamSumA['AOR'] + TeamSumA['HDR']) #AWAY Off Rebound Rate (0.2)\n",
        "\n",
        "    TeamAvgH['HFTR'] = (TeamSumH['HFTA'] / TeamSumH['HFGA']) # HOME Free Throw Rate (0.15)\n",
        "    TeamAvgA['AFTR'] = (TeamSumA['AFTA'] / TeamSumA['AFGA']) # AWAY Free Throw Rate (0.15)\n",
        "\n",
        "# Off and Def Efficiency\n",
        "    TeamAvgH['HOffEf'] = ((TeamSumH['HScore']*100) / TeamSumH['HPoss']) # HOME Offensive Efficiency\n",
        "    TeamAvgA['AOffEf'] = ((TeamSumA['AScore']*100) / TeamSumA['APoss']) # AWAY Offensive Efficiency\n",
        "    \n",
        "    TeamAvgH['HDefEf'] = ((TeamSumH['AScore']*100) / TeamSumH['APoss']) # HOME Defensive Efficiency\n",
        "    TeamAvgA['ADefEf'] = ((TeamSumA['HScore']*100) / TeamSumA['HPoss']) # HOME Defensive Efficiency\n",
        "\n",
        "def calcDifferences(df):\n",
        "    df['eFGP'] = df['HeFGP'] - df['AeFGP']\n",
        "    df['TOR'] = df['HTOR'] - df['ATOR']\n",
        "    df['ORR'] = df['HORR'] - df['AORR']\n",
        "    df['FTR'] = df['HFTR'] - df['AFTR']\n",
        "    df['OffEf'] = df['HOffEf'] - df['AOffEf']\n",
        "    df['DefEf'] = df['HDefEf'] - df['ADefEf']\n",
        "\n",
        "def reduceFeat(df):\n",
        "    df2 = df.loc[:,['HTeamID','ATeamID','NEUTRAL','eFGP','TOR','ORR','FTR','OffEf','DefEf']]\n",
        "    return df2\n",
        "       "
      ],
      "execution_count": 0,
      "outputs": []
    },
    {
      "cell_type": "code",
      "metadata": {
        "ExecuteTime": {
          "end_time": "2018-12-08T22:02:28.925401Z",
          "start_time": "2018-12-08T22:02:28.910400Z"
        },
        "id": "4ZjnUE0CmjVK",
        "colab_type": "code",
        "colab": {}
      },
      "source": [
        "X80=HomeAwayResults.loc[HomeAwayResults.DayNum<107]\n",
        "X20=HomeAwayResults.loc[HomeAwayResults.DayNum>=107]\n",
        "\n",
        "y_train = X80[\"WON\"]\n",
        "y_test = X20[\"WON\"]"
      ],
      "execution_count": 0,
      "outputs": []
    },
    {
      "cell_type": "code",
      "metadata": {
        "ExecuteTime": {
          "end_time": "2018-12-08T22:03:02.161302Z",
          "start_time": "2018-12-08T22:03:02.142301Z"
        },
        "id": "yQpJb3QRmjVL",
        "colab_type": "code",
        "colab": {}
      },
      "source": [
        "# Total team averages\n",
        "X20H = X80[['HTeamID','HScore','HFGM', 'HFGA', 'HFGM3', 'HFGA3', 'HFTM', 'HFTA', 'HOR', 'HDR', 'HAst',\n",
        "       'HTO', 'HStl', 'HBlk', 'HPF', 'HFGM2', 'HFGA2', 'HFGP', 'HFGP2', 'HFGP3', \n",
        "       'HTORC','HDRR','HPFR','HTODR','HTODRR','H3VTO', 'HPoss', \n",
        "       'HeFGP', 'HTOR', 'HORR', 'HFTR', 'HOffEf', 'HDefEf','AScore','ADR','APoss']]\n",
        "\n",
        "X20A = X80[['ATeamID','AScore','AFGM', 'AFGA', 'AFGM3', 'AFGA3', 'AFTM', 'AFTA', 'AOR', 'ADR', 'AAst',\n",
        "       'ATO', 'AStl', 'ABlk', 'APF', 'AFGM2', 'AFGA2', 'AFGP', 'AFGP2', 'AFGP3', \n",
        "       'ATORC','ADRR','APFR','ATODR','ATODRR','A3VTO', 'APoss', \n",
        "       'AeFGP', 'ATOR', 'AORR', 'AFTR', 'AOffEf', 'ADefEf','HScore','HDR','HPoss']]\n"
      ],
      "execution_count": 0,
      "outputs": []
    },
    {
      "cell_type": "code",
      "metadata": {
        "ExecuteTime": {
          "end_time": "2018-12-08T22:03:04.398430Z",
          "start_time": "2018-12-08T22:03:04.295424Z"
        },
        "id": "q2W8l5qnmjVN",
        "colab_type": "code",
        "colab": {}
      },
      "source": [
        "AllStatsA = X20H.copy()\n",
        "AllStatsA.columns = X20A.columns\n",
        "AllStatsA = AllStatsA.append(X20A)\n",
        "\n",
        "AllStatsH = X20A.copy()\n",
        "AllStatsH.columns = X20H.columns\n",
        "AllStatsH = AllStatsH.append(X20H)\n",
        "\n",
        "\n",
        "TeamAvgA = AllStatsA.groupby(['ATeamID']).mean()\n",
        "TeamAvgH = AllStatsH.groupby(['HTeamID']).mean()\n",
        "\n",
        "TeamSumA = AllStatsA.groupby(['ATeamID']).sum()\n",
        "TeamSumH = AllStatsH.groupby(['HTeamID']).sum()\n",
        "\n",
        "#            ------------- FILL OUT AVERAGES! ----------\n",
        "completeAverages()\n",
        "\n",
        "TotAvgH = TeamAvgH.drop(['HScore','AScore','ADR','APoss'], axis=1)\n",
        "TotAvgA = TeamAvgA.drop(['AScore','HScore','HDR','HPoss'], axis=1)"
      ],
      "execution_count": 0,
      "outputs": []
    },
    {
      "cell_type": "code",
      "metadata": {
        "ExecuteTime": {
          "end_time": "2018-12-08T22:03:07.082584Z",
          "start_time": "2018-12-08T22:03:07.051582Z"
        },
        "id": "sWxRbFIamjVO",
        "colab_type": "code",
        "colab": {}
      },
      "source": [
        "# FOR TRAIN \n",
        "XAHtrain = pd.DataFrame(X80[['HTeamID','ATeamID','NEUTRAL']])\n",
        "XTempA = pd.merge(XAHtrain,TotAvgH, on=['HTeamID'], right_index=True, left_index=False)\n",
        "XTempB = pd.merge(XTempA,TotAvgA, on=['ATeamID'], right_index=True, left_index=False)\n",
        "X_trainAllAvg = XTempB\n",
        "\n",
        "# FOR TEST\n",
        "XAH = pd.DataFrame(X20[['HTeamID','ATeamID','NEUTRAL']])\n",
        "XTempA = pd.merge(XAH,TotAvgH, on=['HTeamID'], right_index=True, left_index=False)\n",
        "XTempB = pd.merge(XTempA,TotAvgA, on=['ATeamID'], right_index=True, left_index=False)\n",
        "X_testAllAvg = XTempB"
      ],
      "execution_count": 0,
      "outputs": []
    },
    {
      "cell_type": "code",
      "metadata": {
        "ExecuteTime": {
          "end_time": "2018-12-08T22:03:08.224649Z",
          "start_time": "2018-12-08T22:03:08.157645Z"
        },
        "id": "TreEU1TomjVQ",
        "colab_type": "code",
        "colab": {}
      },
      "source": [
        "TeamAvgH = X20H.groupby(['HTeamID']).mean()\n",
        "TeamAvgA = X20A.groupby(['ATeamID']).mean()\n",
        "\n",
        "TeamSumH = X20H.groupby(['HTeamID']).sum()\n",
        "TeamSumA = X20A.groupby(['ATeamID']).sum()\n",
        "\n",
        "#            ------------- FILL OUT AVERAGES! ----------\n",
        "completeAverages()\n",
        "\n",
        "\n",
        "HomeAvg = TeamAvgH.drop(['HScore','AScore','ADR','APoss'], axis=1)\n",
        "AwayAvg = TeamAvgA.drop(['AScore','HScore','HDR','HPoss'], axis=1)"
      ],
      "execution_count": 0,
      "outputs": []
    },
    {
      "cell_type": "code",
      "metadata": {
        "ExecuteTime": {
          "end_time": "2018-12-08T22:03:09.284709Z",
          "start_time": "2018-12-08T22:03:09.256708Z"
        },
        "id": "cHlH3Z1NmjVU",
        "colab_type": "code",
        "colab": {}
      },
      "source": [
        "# FOR TRAIN \n",
        "XAHtrain = pd.DataFrame(X80[['HTeamID','ATeamID','NEUTRAL']])\n",
        "XTempA = pd.merge(XAHtrain,HomeAvg, on=['HTeamID'], right_index=True, left_index=False)\n",
        "X_trainHAAvg = XTempB\n",
        "\n",
        "# FOR TEST\n",
        "XAH = pd.DataFrame(X20[['HTeamID','ATeamID','NEUTRAL']])\n",
        "XTempA = pd.merge(XAH,HomeAvg, on=['HTeamID'], right_index=True, left_index=False)\n",
        "XTempB = pd.merge(XTempA,AwayAvg, on=['ATeamID'], right_index=True, left_index=False)\n",
        "X_testHAAvg = XTempB"
      ],
      "execution_count": 0,
      "outputs": []
    },
    {
      "cell_type": "code",
      "metadata": {
        "ExecuteTime": {
          "end_time": "2018-12-08T22:03:12.204877Z",
          "start_time": "2018-12-08T22:03:12.178875Z"
        },
        "id": "ilhSuUjqmjVV",
        "colab_type": "code",
        "colab": {}
      },
      "source": [
        "X_train = X_trainAllAvg.drop(['HTeamID','ATeamID'], axis =1)\n",
        "X_test = X_testAllAvg.drop(['HTeamID','ATeamID'], axis =1)"
      ],
      "execution_count": 0,
      "outputs": []
    },
    {
      "cell_type": "markdown",
      "metadata": {
        "id": "bK6aSGTSmjVW",
        "colab_type": "text"
      },
      "source": [
        "Notebook Cleanup - deleting old/temporary variables"
      ]
    },
    {
      "cell_type": "markdown",
      "metadata": {
        "id": "mNXTRyGQmjVX",
        "colab_type": "text"
      },
      "source": [
        "# Feature Selection"
      ]
    },
    {
      "cell_type": "markdown",
      "metadata": {
        "id": "T3RasKt3mjVX",
        "colab_type": "text"
      },
      "source": [
        "## Feature Correlation Plot"
      ]
    },
    {
      "cell_type": "code",
      "metadata": {
        "ExecuteTime": {
          "end_time": "2018-12-11T04:39:19.816490Z",
          "start_time": "2018-12-11T04:39:19.672418Z"
        },
        "id": "VYPsCPoXmjVX",
        "colab_type": "code",
        "colab": {}
      },
      "source": [
        "X_train_corr_plot = X_train.drop(['HTORC','ATORC','HDRR','ADRR','HPFR','APFR','HTODRR','ATODRR'],axis=1)"
      ],
      "execution_count": 0,
      "outputs": []
    },
    {
      "cell_type": "code",
      "metadata": {
        "ExecuteTime": {
          "end_time": "2018-12-11T04:39:27.163162Z",
          "start_time": "2018-12-11T04:39:23.724443Z"
        },
        "id": "yFs0ZyW8mjVZ",
        "colab_type": "code",
        "outputId": "c427d50c-77e5-4c9b-ffbd-1afa449d6231",
        "colab": {
          "base_uri": "https://localhost:8080/",
          "height": 1000
        }
      },
      "source": [
        "import matplotlib.pyplot as plt\n",
        "%matplotlib inline\n",
        "\n",
        "fig = plt.figure(figsize=(30,30))\n",
        "ax = fig.add_subplot(111)\n",
        "ms = ax.matshow(X_train_corr_plot.corr())\n",
        "fig.colorbar(ms)\n",
        "label_count = list(range(len(X_train_corr_plot.columns)))\n",
        "ax.set_xticks(label_count)\n",
        "ax.set_xticklabels(X_train_corr_plot.columns, rotation=90)\n",
        "ax.set_yticks(label_count)\n",
        "ax.set_yticklabels(X_train_corr_plot.columns)\n",
        "ax.set_title('Visualizing the correlation between features and targets', pad=150, fontsize=14);"
      ],
      "execution_count": 0,
      "outputs": [
        {
          "output_type": "display_data",
          "data": {
            "image/png": "[encoded data removed]",
            "text/plain": [
              "<Figure size 2160x2160 with 2 Axes>"
            ]
          },
          "metadata": {
            "tags": []
          }
        }
      ]
    },
    {
      "cell_type": "markdown",
      "metadata": {
        "id": "MR-PQWxRmjVa",
        "colab_type": "text"
      },
      "source": [
        "## Feature Selection using : sklearn.feature_selection  Feature ranking with recursive feature elimination (RFE)"
      ]
    },
    {
      "cell_type": "code",
      "metadata": {
        "ExecuteTime": {
          "end_time": "2018-12-08T22:06:03.993702Z",
          "start_time": "2018-12-08T22:05:58.298377Z"
        },
        "id": "mKxvy8ebmjVa",
        "colab_type": "code",
        "outputId": "6d3eb49f-cecd-453c-d824-5382899a8650",
        "colab": {
          "base_uri": "https://localhost:8080/",
          "height": 175
        }
      },
      "source": [
        "# Feature Selection using Logistic Regression model\n",
        "from sklearn.feature_selection import RFE\n",
        "from sklearn.linear_model import LogisticRegression\n",
        "logreg = LogisticRegression()\n",
        "rfe = RFE(logreg, 20)\n",
        "rfe = rfe.fit(X_train, y_train.values.ravel())\n",
        "print(rfe.support_)\n",
        "print(rfe.ranking_)"
      ],
      "execution_count": 0,
      "outputs": [
        {
          "output_type": "stream",
          "text": [
            "[ True False False False False False False False  True False False False\n",
            "  True False False False False False False  True  True  True False  True\n",
            " False False False False False False False False False False  True  True\n",
            " False False  True  True False False  True False  True False False False\n",
            "  True False  True  True  True False  True  True False False False  True\n",
            " False False False]\n",
            "[ 1  7 13  3 38 10 12 14  1 15  8  6  1  2 42 33 37 39 40  1  1  1 30  1\n",
            " 34 31 44 27 32 26  9 43 35  5  1  1 11 29  1  1 16 28  1  4  1 17 20 41\n",
            "  1 22  1  1  1 36  1  1 21 24 23  1 25 19 18]\n"
          ],
          "name": "stdout"
        }
      ]
    },
    {
      "cell_type": "code",
      "metadata": {
        "ExecuteTime": {
          "end_time": "2018-12-08T22:06:07.210886Z",
          "start_time": "2018-12-08T22:06:03.997703Z"
        },
        "id": "tORqhT_KmjVb",
        "colab_type": "code",
        "outputId": "c33c1285-e7fd-4e77-d6be-0e9260b6ff93",
        "colab": {
          "base_uri": "https://localhost:8080/",
          "height": 334
        }
      },
      "source": [
        "# Feature Selection using DecisionTreeRegressor\n",
        "from sklearn.feature_selection import RFE\n",
        "from sklearn.tree import DecisionTreeRegressor\n",
        "logreg = DecisionTreeRegressor(criterion=\"mse\",min_samples_leaf=5)\n",
        "rfe = RFE(logreg, 20)\n",
        "rfe = rfe.fit(X_train, y_train.values.ravel())\n",
        "print(X_train.columns)\n",
        "print(rfe.support_)\n",
        "print(rfe.ranking_)"
      ],
      "execution_count": 0,
      "outputs": [
        {
          "output_type": "stream",
          "text": [
            "Index(['NEUTRAL', 'HFGM', 'HFGA', 'HFGM3', 'HFGA3', 'HFTM', 'HFTA', 'HOR',\n",
            "       'HDR', 'HAst', 'HTO', 'HStl', 'HBlk', 'HPF', 'HFGM2', 'HFGA2', 'HFGP',\n",
            "       'HFGP2', 'HFGP3', 'HTORC', 'HDRR', 'HPFR', 'HTODR', 'HTODRR', 'H3VTO',\n",
            "       'HPoss', 'HeFGP', 'HTOR', 'HORR', 'HFTR', 'HOffEf', 'HDefEf', 'AFGM',\n",
            "       'AFGA', 'AFGM3', 'AFGA3', 'AFTM', 'AFTA', 'AOR', 'ADR', 'AAst', 'ATO',\n",
            "       'AStl', 'ABlk', 'APF', 'AFGM2', 'AFGA2', 'AFGP', 'AFGP2', 'AFGP3',\n",
            "       'ATORC', 'ADRR', 'APFR', 'ATODR', 'ATODRR', 'A3VTO', 'APoss', 'AeFGP',\n",
            "       'ATOR', 'AORR', 'AFTR', 'AOffEf', 'ADefEf'],\n",
            "      dtype='object')\n",
            "[False False False False False False False False False False False False\n",
            " False False False False False False False False False False False False\n",
            " False False False False False False False False False  True  True False\n",
            " False  True  True  True  True  True  True  True  True False  True  True\n",
            "  True  True False False False False False False  True  True False  True\n",
            "  True  True  True]\n",
            "[44 43 42 41 40  8 20 19 18 17 16 15 14 21 22 29 23 13 34 35 36 33 26 31\n",
            " 28 39 12 25 37 38 30  6 27  1  1  4  7  1  1  1  1  1  1  1  1  2  1  1\n",
            "  1  1 32  9 10  5 11  3  1  1 24  1  1  1  1]\n"
          ],
          "name": "stdout"
        }
      ]
    },
    {
      "cell_type": "code",
      "metadata": {
        "ExecuteTime": {
          "end_time": "2018-12-08T22:06:07.220887Z",
          "start_time": "2018-12-08T22:06:07.214887Z"
        },
        "id": "ua2vD021mjVe",
        "colab_type": "code",
        "outputId": "e99fc20b-bce6-4b66-c917-376103e69384",
        "colab": {
          "base_uri": "https://localhost:8080/",
          "height": 34
        }
      },
      "source": [
        "type(rfe.ranking_)"
      ],
      "execution_count": 0,
      "outputs": [
        {
          "output_type": "execute_result",
          "data": {
            "text/plain": [
              "numpy.ndarray"
            ]
          },
          "metadata": {
            "tags": []
          },
          "execution_count": 37
        }
      ]
    },
    {
      "cell_type": "markdown",
      "metadata": {
        "id": "YfGcRO1RmjVf",
        "colab_type": "text"
      },
      "source": [
        "## Based on the ranking on above feature selection logic using RFE - Pick top 10 ranked features."
      ]
    },
    {
      "cell_type": "code",
      "metadata": {
        "ExecuteTime": {
          "end_time": "2018-12-08T22:07:17.244892Z",
          "start_time": "2018-12-08T22:07:16.875871Z"
        },
        "id": "PYMWg-F7mjVg",
        "colab_type": "code",
        "outputId": "bc28825d-2f10-4fc1-9764-06b0bd189889",
        "colab": {
          "base_uri": "https://localhost:8080/",
          "height": 709
        }
      },
      "source": [
        "X_train_1 = X_train[['NEUTRAL','HFGM2','HTODR','ATO','HPoss','AFGA','AFTA','AOR']]\n",
        "X_test_1 = X_test[['NEUTRAL','HFGM2','HTODR','ATO','HPoss','AFGA','AFTA','AOR']]\n",
        "\n",
        "\n",
        "#Plot for top 10 ranked features: Visualizing the features correlation \n",
        "import matplotlib.pyplot as plt\n",
        "%matplotlib inline\n",
        "\n",
        "fig = plt.figure(figsize=(10,10))\n",
        "ax = fig.add_subplot(111)\n",
        "ms = ax.matshow(X_train_1.corr())\n",
        "fig.colorbar(ms)\n",
        "label_count = list(range(len(X_train_1.columns)))\n",
        "ax.set_xticks(label_count)\n",
        "ax.set_xticklabels(X_train_1.columns, rotation=90)\n",
        "ax.set_yticks(label_count)\n",
        "ax.set_yticklabels(X_train_1.columns)\n",
        "ax.set_title('Visualizing the correlation between features and targets', pad=150, fontsize=14);"
      ],
      "execution_count": 0,
      "outputs": [
        {
          "output_type": "display_data",
          "data": {
            "image/png": "[encoded data removed]",
            "text/plain": [
              "<Figure size 720x720 with 2 Axes>"
            ]
          },
          "metadata": {
            "tags": []
          }
        }
      ]
    },
    {
      "cell_type": "code",
      "metadata": {
        "ExecuteTime": {
          "end_time": "2018-12-08T22:07:25.753379Z",
          "start_time": "2018-12-08T22:07:25.617371Z"
        },
        "id": "2PekYxg9mjVi",
        "colab_type": "code",
        "outputId": "ba895c01-c2f4-4077-d166-17b5c76e76a6",
        "colab": {
          "base_uri": "https://localhost:8080/",
          "height": 1000
        }
      },
      "source": [
        "m = ~(X_train.corr().mask(np.eye(len(X_train.corr()), dtype=bool)).abs() > 0.75).any()\n",
        "\n",
        "pd.set_option('display.max_rows', 500)\n",
        "print(m)"
      ],
      "execution_count": 0,
      "outputs": [
        {
          "output_type": "stream",
          "text": [
            "NEUTRAL     True\n",
            "HFGM       False\n",
            "HFGA        True\n",
            "HFGM3      False\n",
            "HFGA3      False\n",
            "HFTM       False\n",
            "HFTA       False\n",
            "HOR        False\n",
            "HDR         True\n",
            "HAst        True\n",
            "HTO        False\n",
            "HStl        True\n",
            "HBlk        True\n",
            "HPF         True\n",
            "HFGM2      False\n",
            "HFGA2      False\n",
            "HFGP       False\n",
            "HFGP2      False\n",
            "HFGP3      False\n",
            "HTORC       True\n",
            "HDRR        True\n",
            "HPFR        True\n",
            "HTODR      False\n",
            "HTODRR      True\n",
            "H3VTO      False\n",
            "HPoss      False\n",
            "HeFGP      False\n",
            "HTOR       False\n",
            "HORR       False\n",
            "HFTR       False\n",
            "HOffEf     False\n",
            "HDefEf      True\n",
            "AFGM       False\n",
            "AFGA        True\n",
            "AFGM3      False\n",
            "AFGA3      False\n",
            "AFTM       False\n",
            "AFTA       False\n",
            "AOR        False\n",
            "ADR         True\n",
            "AAst        True\n",
            "ATO        False\n",
            "AStl        True\n",
            "ABlk        True\n",
            "APF         True\n",
            "AFGM2      False\n",
            "AFGA2      False\n",
            "AFGP       False\n",
            "AFGP2      False\n",
            "AFGP3      False\n",
            "ATORC       True\n",
            "ADRR        True\n",
            "APFR        True\n",
            "ATODR      False\n",
            "ATODRR      True\n",
            "A3VTO      False\n",
            "APoss      False\n",
            "AeFGP      False\n",
            "ATOR       False\n",
            "AORR       False\n",
            "AFTR       False\n",
            "AOffEf     False\n",
            "ADefEf      True\n",
            "dtype: bool\n"
          ],
          "name": "stdout"
        }
      ]
    },
    {
      "cell_type": "markdown",
      "metadata": {
        "id": "E1-RWBIumjVj",
        "colab_type": "text"
      },
      "source": [
        "## Analysing Feature with high correlation [ corr greater that 0.75] "
      ]
    },
    {
      "cell_type": "code",
      "metadata": {
        "ExecuteTime": {
          "end_time": "2018-12-08T22:07:29.931618Z",
          "start_time": "2018-12-08T22:07:29.489592Z"
        },
        "id": "9vq_35l_mjVk",
        "colab_type": "code",
        "outputId": "18f43974-1cdd-416f-f57b-370959143a8d",
        "colab": {
          "base_uri": "https://localhost:8080/",
          "height": 709
        }
      },
      "source": [
        "# Features with more than 0.75 correlation.\n",
        "#'NEUTRAL',HFGA',HFGM3',HFGA3',HDR',HAst',HStl',HBlk',HFGA2',HTODR',AFGA',AFGM3',AFGA3',ADR',AAst',AStl',ABlk',AFGA2'\n",
        "\n",
        "X_train_1 = X_train[['NEUTRAL','HFGA','HFGM3','HFGA3','HDR','HAst','HStl','HBlk','HFGA2','HTODR','AFGA','AFGM3','AFGA3','ADR','AAst','AStl','ABlk','AFGA2']]\n",
        "X_test_1 = X_test[['NEUTRAL','HFGA','HFGM3','HFGA3','HDR','HAst','HStl','HBlk','HFGA2','HTODR','AFGA','AFGM3','AFGA3','ADR','AAst','AStl','ABlk','AFGA2']]\n",
        "\n",
        "\n",
        "#Plot for top 10 ranked features: Visualizing the features correlation \n",
        "import matplotlib.pyplot as plt\n",
        "%matplotlib inline\n",
        "\n",
        "fig = plt.figure(figsize=(10,10))\n",
        "ax = fig.add_subplot(111)\n",
        "ms = ax.matshow(X_train_1.corr())\n",
        "fig.colorbar(ms)\n",
        "label_count = list(range(len(X_train_1.columns)))\n",
        "ax.set_xticks(label_count)\n",
        "ax.set_xticklabels(X_train_1.columns, rotation=90)\n",
        "ax.set_yticks(label_count)\n",
        "ax.set_yticklabels(X_train_1.columns)\n",
        "ax.set_title('Visualizing correlation greater than 0.75 features only', pad=150, fontsize=14);"
      ],
      "execution_count": 0,
      "outputs": [
        {
          "output_type": "display_data",
          "data": {
            "image/png": "[encoded data removed]",
            "text/plain": [
              "<Figure size 720x720 with 2 Axes>"
            ]
          },
          "metadata": {
            "tags": []
          }
        }
      ]
    },
    {
      "cell_type": "markdown",
      "metadata": {
        "id": "P8FjGjAOmjVl",
        "colab_type": "text"
      },
      "source": [
        "## Selecting select_kbest_reg features using f_regression"
      ]
    },
    {
      "cell_type": "code",
      "metadata": {
        "ExecuteTime": {
          "end_time": "2018-12-08T22:07:40.457220Z",
          "start_time": "2018-12-08T22:07:40.410217Z"
        },
        "id": "PHEP45MMmjVl",
        "colab_type": "code",
        "outputId": "9ee8bfac-3709-4f65-fc24-3bfb73ee1d39",
        "colab": {
          "base_uri": "https://localhost:8080/",
          "height": 1000
        }
      },
      "source": [
        "import numpy as np\n",
        "import pandas as pd\n",
        "from sklearn.model_selection import train_test_split\n",
        "import matplotlib\n",
        "import matplotlib.pyplot as plt\n",
        "from sklearn.linear_model import LinearRegression\n",
        "from sklearn.datasets import load_boston\n",
        "import pandas as pd\n",
        "from sklearn.feature_selection import SelectKBest, f_regression\n",
        "\n",
        "# SCORE  linear regression input variables using correlation producing F scores and corresponding p-values\n",
        "# K is used select top k rated input features\n",
        "def select_kbest_reg(data_frame, target, k=5):\n",
        "    \"\"\"\n",
        "    Selecting K-Best features regression\n",
        "    :param data_frame: A pandas dataFrame with the training data\n",
        "    :param target: target variable name in DataFrame\n",
        "    :param k: desired number of features from the data\n",
        "    :returns feature_scores: scores for each feature in the data as \n",
        "    pandas DataFrame\n",
        "    \"\"\"\n",
        "    feat_selector = SelectKBest(f_regression, k=k)\n",
        "    _ = feat_selector.fit(data_frame.drop(target, axis=1), data_frame[target])\n",
        "    \n",
        "    feat_scores = pd.DataFrame()\n",
        "    feat_scores[\"F Score\"] = feat_selector.scores_\n",
        "    feat_scores[\"P Value\"] = feat_selector.pvalues_\n",
        "    feat_scores[\"Support\"] = feat_selector.get_support()\n",
        "    feat_scores[\"Attribute\"] = data_frame.drop(target, axis=1).columns\n",
        "    \n",
        "    return feat_scores\n",
        "\n",
        "\n",
        "print(X_train.columns)\n",
        "\n",
        "X_train.head()\n",
        "\n",
        "df = pd.DataFrame(X_train, columns=X_train.columns).copy()\n",
        "df[\"MEDV\"] = y_train\n",
        "\n",
        "per_feat = select_kbest_reg(df, 'MEDV', k=10)\n",
        "per_feat_sorted = per_feat.sort_values([\"F Score\", \"P Value\"], ascending=[False, False])\n",
        "top_k_feature_indices = per_feat_sorted['Attribute'].values.flatten()\n",
        "print(\"\\n Feature Score for a linear regression using correlation\\n\")\n",
        "print(per_feat_sorted)   ##INDUS, RM, TAX, PTRATIO, LSAT\n",
        "\n",
        "print(np.linalg.norm(y_train))"
      ],
      "execution_count": 0,
      "outputs": [
        {
          "output_type": "stream",
          "text": [
            "Index(['NEUTRAL', 'HFGM', 'HFGA', 'HFGM3', 'HFGA3', 'HFTM', 'HFTA', 'HOR',\n",
            "       'HDR', 'HAst', 'HTO', 'HStl', 'HBlk', 'HPF', 'HFGM2', 'HFGA2', 'HFGP',\n",
            "       'HFGP2', 'HFGP3', 'HTORC', 'HDRR', 'HPFR', 'HTODR', 'HTODRR', 'H3VTO',\n",
            "       'HPoss', 'HeFGP', 'HTOR', 'HORR', 'HFTR', 'HOffEf', 'HDefEf', 'AFGM',\n",
            "       'AFGA', 'AFGM3', 'AFGA3', 'AFTM', 'AFTA', 'AOR', 'ADR', 'AAst', 'ATO',\n",
            "       'AStl', 'ABlk', 'APF', 'AFGM2', 'AFGA2', 'AFGP', 'AFGP2', 'AFGP3',\n",
            "       'ATORC', 'ADRR', 'APFR', 'ATODR', 'ATODRR', 'A3VTO', 'APoss', 'AeFGP',\n",
            "       'ATOR', 'AORR', 'AFTR', 'AOffEf', 'ADefEf'],\n",
            "      dtype='object')\n",
            "\n",
            " Feature Score for a linear regression using correlation\n",
            "\n",
            "       F Score       P Value  Support Attribute\n",
            "30  423.968368  6.838435e-90     True    HOffEf\n",
            "24  404.496613  4.993321e-86     True     H3VTO\n",
            "55  398.591204  7.470763e-85     True     A3VTO\n",
            "61  362.111899  1.464352e-77     True    AOffEf\n",
            "31  348.944869  6.491618e-75     True    HDefEf\n",
            "62  339.101565  6.252832e-73     True    ADefEf\n",
            "16  320.087200  4.370804e-69     True      HFGP\n",
            "26  290.304910  4.963527e-63     True     HeFGP\n",
            "17  281.961096  2.510047e-61     True     HFGP2\n",
            "47  255.298302  7.357916e-56     True      AFGP\n",
            "57  251.889713  3.699481e-55    False     AeFGP\n",
            "48  224.257379  1.884158e-49    False     AFGP2\n",
            "1   212.032824  6.486914e-47    False      HFGM\n",
            "9   209.658207  2.021684e-46    False      HAst\n",
            "32  140.348851  7.019422e-32    False      AFGM\n",
            "18  135.601789  7.111575e-31    False     HFGP3\n",
            "40  128.210797  2.632768e-29    False      AAst\n",
            "49  126.934603  4.915503e-29    False     AFGP3\n",
            "14  122.970170  3.424014e-28    False     HFGM2\n",
            "12  117.219120  5.742908e-27    False      HBlk\n",
            "8   112.233116  6.645401e-26    False       HDR\n",
            "39  106.617076  1.052489e-24    False       ADR\n",
            "10   91.373016  1.947543e-21    False       HTO\n",
            "27   90.933602  2.420541e-21    False      HTOR\n",
            "41   84.794084  5.066942e-20    False       ATO\n",
            "28   78.350507  1.242090e-18    False      HORR\n",
            "43   72.328087  2.488020e-17    False      ABlk\n",
            "58   71.352043  4.046834e-17    False      ATOR\n",
            "45   67.445519  2.841419e-16    False     AFGM2\n",
            "5    63.197442  2.374648e-15    False      HFTM\n",
            "13   59.689969  1.374919e-14    False       HPF\n",
            "36   51.324140  9.180177e-13    False      AFTM\n",
            "11   48.563829  3.687560e-12    False      HStl\n",
            "6    46.507537  1.040569e-11    False      HFTA\n",
            "44   45.942610  1.384045e-11    False       APF\n",
            "34   41.788169  1.131418e-10    False     AFGM3\n",
            "59   38.200691  6.979760e-10    False      AORR\n",
            "3    36.511504  1.647135e-09    False     HFGM3\n",
            "29   35.407529  2.888916e-09    False      HFTR\n",
            "37   24.238256  8.833938e-07    False      AFTA\n",
            "60   23.848341  1.080452e-06    False      AFTR\n",
            "42   23.367765  1.385065e-06    False      AStl\n",
            "22   20.229753  7.050087e-06    False     HTODR\n",
            "53   19.073946  1.287318e-05    False     ATODR\n",
            "7     9.825610  1.732668e-03    False       HOR\n",
            "15    7.421626  6.470705e-03    False     HFGA2\n",
            "25    5.834892  1.575312e-02    False     HPoss\n",
            "2     4.063098  4.389258e-02    False      HFGA\n",
            "35    3.180094  7.461151e-02    False     AFGA3\n",
            "56    2.103940  1.469936e-01    False     APoss\n",
            "0     1.827878  1.764500e-01    False   NEUTRAL\n",
            "4     1.198773  2.736289e-01    False     HFGA3\n",
            "38    0.534719  4.646698e-01    False       AOR\n",
            "46    0.337476  5.613202e-01    False     AFGA2\n",
            "33    0.018928  8.905809e-01    False      AFGA\n",
            "19         NaN           NaN    False     HTORC\n",
            "20         NaN           NaN    False      HDRR\n",
            "21         NaN           NaN    False      HPFR\n",
            "23         NaN           NaN    False    HTODRR\n",
            "50         NaN           NaN    False     ATORC\n",
            "51         NaN           NaN    False      ADRR\n",
            "52         NaN           NaN    False      APFR\n",
            "54         NaN           NaN    False    ATODRR\n",
            "52.65928218272634\n"
          ],
          "name": "stdout"
        }
      ]
    },
    {
      "cell_type": "markdown",
      "metadata": {
        "id": "qQPtzOE5mjVn",
        "colab_type": "text"
      },
      "source": [
        "## Feature - Plot coeffients of the learnt linear regression model  - Scoring coefficients - analysis"
      ]
    },
    {
      "cell_type": "code",
      "metadata": {
        "ExecuteTime": {
          "end_time": "2018-12-08T22:07:52.068884Z",
          "start_time": "2018-12-08T22:07:51.037825Z"
        },
        "id": "6TjWPyHMmjVn",
        "colab_type": "code",
        "outputId": "b2bfea77-4c8d-4c5b-e9e1-b31268067d3f",
        "colab": {
          "base_uri": "https://localhost:8080/",
          "height": 535
        }
      },
      "source": [
        "model_sk = LinearRegression()\n",
        "model_sk.fit(X_train, y_train)\n",
        "\n",
        "feat_scores = pd.DataFrame()\n",
        "feat_scores[\"coefficient\"] = model_sk.coef_\n",
        "feat_scores[\"ABScoefficient\"] = np.abs(model_sk.coef_)\n",
        "feat_scores[\"Attribute\"] = X_train.columns\n",
        "feat_scores = feat_scores.sort_values([\"ABScoefficient\"], ascending=[False])\n",
        "feat_scores\n",
        "\n",
        "plt.figure(figsize=(12, 8))\n",
        "plt.bar(np.arange(model_sk.coef_.shape[0]) - 0.4, feat_scores[\"coefficient\"] )\n",
        "plt.xticks(np.arange(model_sk.coef_.shape[0]), feat_scores[\"Attribute\"], rotation='vertical')\n",
        "plt.xlim([-1, model_sk.coef_.shape[0]])\n",
        "plt.grid()\n",
        "plt.title(\"Sklearn model coefficients\");"
      ],
      "execution_count": 0,
      "outputs": [
        {
          "output_type": "display_data",
          "data": {
            "image/png": "[encoded data removed]",
            "text/plain": [
              "<Figure size 864x576 with 1 Axes>"
            ]
          },
          "metadata": {
            "tags": []
          }
        }
      ]
    },
    {
      "cell_type": "markdown",
      "metadata": {
        "id": "Rl1KlyiomjVq",
        "colab_type": "text"
      },
      "source": [
        "## Feature importance using forest.feature_importances_"
      ]
    },
    {
      "cell_type": "code",
      "metadata": {
        "ExecuteTime": {
          "end_time": "2018-12-08T22:08:33.179235Z",
          "start_time": "2018-12-08T22:08:26.333844Z"
        },
        "id": "7-VhiUY6mjVq",
        "colab_type": "code",
        "outputId": "03635529-622b-422f-c86a-e6d604b0d8f6",
        "colab": {
          "base_uri": "https://localhost:8080/",
          "height": 1000
        }
      },
      "source": [
        "from sklearn.ensemble import RandomForestClassifier\n",
        "\n",
        "feat_labels = X_train.columns\n",
        "\n",
        "forest = RandomForestClassifier(n_estimators=500,\n",
        "                                random_state=1)\n",
        "\n",
        "forest.fit(X_train, y_train)\n",
        "importances = forest.feature_importances_\n",
        "\n",
        "indices = np.argsort(importances)[::-1]\n",
        "\n",
        "for f in range(X_train.shape[1]):\n",
        "    print(\"%2d) %-*s %f\" % (f+1, 30, \n",
        "                            feat_labels[indices[f]], \n",
        "                            importances[indices[f]]))\n",
        "plt.figure(figsize=(12, 6), dpi=80)\n",
        "plt.title('Feature Importance')\n",
        "plt.bar(range(X_train.shape[1]), \n",
        "        importances[indices],\n",
        "        align='center')\n",
        "\n",
        "plt.xticks(range(X_train.shape[1]), \n",
        "           feat_labels[indices], rotation=90)\n",
        "plt.xlim([-1, X_train.shape[1]])\n",
        "plt.tight_layout()\n",
        "#plt.savefig('images/04_09.png', dpi=300)\n",
        "plt.show()"
      ],
      "execution_count": 0,
      "outputs": [
        {
          "output_type": "stream",
          "text": [
            " 1) APF                            0.047671\n",
            " 2) AORR                           0.043563\n",
            " 3) ABlk                           0.041270\n",
            " 4) AFGP3                          0.040320\n",
            " 5) AOR                            0.040261\n",
            " 6) AOffEf                         0.039624\n",
            " 7) ATODR                          0.039537\n",
            " 8) APoss                          0.038500\n",
            " 9) AeFGP                          0.038319\n",
            "10) AStl                           0.037690\n",
            "11) ADR                            0.036208\n",
            "12) ADefEf                         0.035677\n",
            "13) ATOR                           0.035555\n",
            "14) AFGM2                          0.035147\n",
            "15) AFTM                           0.034895\n",
            "16) ATO                            0.034657\n",
            "17) AFGP2                          0.033653\n",
            "18) AFGM3                          0.033627\n",
            "19) AFGP                           0.033474\n",
            "20) AFGA2                          0.032758\n",
            "21) AFTR                           0.032485\n",
            "22) AFGA3                          0.032462\n",
            "23) AAst                           0.032097\n",
            "24) AFTA                           0.032013\n",
            "25) AFGM                           0.031312\n",
            "26) A3VTO                          0.030868\n",
            "27) AFGA                           0.030827\n",
            "28) HFGM2                          0.001313\n",
            "29) HPoss                          0.001305\n",
            "30) HFTA                           0.001132\n",
            "31) HFTM                           0.001124\n",
            "32) HDefEf                         0.001087\n",
            "33) HOffEf                         0.001063\n",
            "34) HFTR                           0.001008\n",
            "35) HTODR                          0.000987\n",
            "36) HOR                            0.000984\n",
            "37) HBlk                           0.000972\n",
            "38) HStl                           0.000962\n",
            "39) HTO                            0.000947\n",
            "40) HFGA2                          0.000936\n",
            "41) HORR                           0.000916\n",
            "42) HFGM3                          0.000910\n",
            "43) HTOR                           0.000906\n",
            "44) HAst                           0.000901\n",
            "45) HPF                            0.000888\n",
            "46) H3VTO                          0.000864\n",
            "47) HFGP3                          0.000836\n",
            "48) HFGA                           0.000821\n",
            "49) HeFGP                          0.000808\n",
            "50) HFGM                           0.000797\n",
            "51) HDR                            0.000774\n",
            "52) HFGA3                          0.000768\n",
            "53) HFGP2                          0.000764\n",
            "54) HFGP                           0.000674\n",
            "55) NEUTRAL                        0.000086\n",
            "56) HPFR                           0.000000\n",
            "57) APFR                           0.000000\n",
            "58) ATODRR                         0.000000\n",
            "59) ATORC                          0.000000\n",
            "60) ADRR                           0.000000\n",
            "61) HTORC                          0.000000\n",
            "62) HDRR                           0.000000\n",
            "63) HTODRR                         0.000000\n"
          ],
          "name": "stdout"
        },
        {
          "output_type": "display_data",
          "data": {
            "image/png": "[encoded data removed]",
            "text/plain": [
              "<Figure size 960x480 with 1 Axes>"
            ]
          },
          "metadata": {
            "tags": []
          }
        }
      ]
    },
    {
      "cell_type": "code",
      "metadata": {
        "ExecuteTime": {
          "end_time": "2018-12-08T22:08:44.679893Z",
          "start_time": "2018-12-08T22:08:44.624890Z"
        },
        "id": "CKAI7m4emjVt",
        "colab_type": "code",
        "outputId": "717dd5d9-bad3-4e45-9601-9fb83cde6eb1",
        "colab": {
          "base_uri": "https://localhost:8080/",
          "height": 34
        }
      },
      "source": [
        "from sklearn.feature_selection import SelectFromModel\n",
        "\n",
        "sfm = SelectFromModel(forest, threshold=0.1, prefit=True)\n",
        "X_selected = sfm.transform(X_train)\n",
        "print('Number of samples that meet this criterion:', \n",
        "      X_selected.shape[0])\n",
        "\n",
        "for f in range(X_selected.shape[1]):\n",
        "    print(\"%2d) %-*s %f\" % (f + 1, 30, \n",
        "                            feat_labels[indices[f]], \n",
        "                            importances[indices[f]]))"
      ],
      "execution_count": 0,
      "outputs": [
        {
          "output_type": "stream",
          "text": [
            "Number of samples that meet this criterion: 4270\n"
          ],
          "name": "stdout"
        }
      ]
    },
    {
      "cell_type": "markdown",
      "metadata": {
        "id": "ZuqyzfBPmjVu",
        "colab_type": "text"
      },
      "source": [
        "## Feature Selection : Sequential feature selection algorithms: Sequential Backward Selection : SBS(knn, k_features=1)"
      ]
    },
    {
      "cell_type": "code",
      "metadata": {
        "ExecuteTime": {
          "end_time": "2018-12-08T22:18:41.953055Z",
          "start_time": "2018-12-08T22:08:52.996369Z"
        },
        "id": "nZSVj5NJmjVu",
        "colab_type": "code",
        "colab": {
          "base_uri": "https://localhost:8080/",
          "height": 297
        },
        "outputId": "2d26f30b-38ae-4328-dc16-155700641520"
      },
      "source": [
        "from sklearn.base import clone\n",
        "from itertools import combinations\n",
        "import numpy as np\n",
        "from sklearn.metrics import accuracy_score\n",
        "from sklearn.model_selection import train_test_split\n",
        "from sklearn.datasets import load_wine\n",
        "\n",
        "\n",
        "class SBS():\n",
        "    def __init__(self, estimator, k_features, scoring=accuracy_score,\n",
        "                 test_size=0.25, random_state=1):\n",
        "        self.scoring = scoring\n",
        "        self.estimator = clone(estimator)\n",
        "        self.k_features = k_features\n",
        "        self.test_size = test_size\n",
        "        self.random_state = random_state\n",
        "\n",
        "    def fit(self, X, y):\n",
        "        \n",
        "        X_train, X_test, y_train, y_test = \\\n",
        "            train_test_split(X, y, test_size=self.test_size,\n",
        "                             random_state=self.random_state)\n",
        "\n",
        "        dim = X_train.shape[1]\n",
        "        self.indices_ = tuple(range(dim))\n",
        "        self.subsets_ = [self.indices_]\n",
        "        score = self._calc_score(X_train, y_train, \n",
        "                                 X_test, y_test, self.indices_)\n",
        "        self.scores_ = [score]\n",
        "\n",
        "        while dim > self.k_features:\n",
        "            scores = []\n",
        "            subsets = []\n",
        "\n",
        "            for p in combinations(self.indices_, r=dim - 1):\n",
        "                score = self._calc_score(X_train, y_train, \n",
        "                                         X_test, y_test, p)\n",
        "                scores.append(score)\n",
        "                subsets.append(p)\n",
        "\n",
        "            best = np.argmax(scores)\n",
        "            self.indices_ = subsets[best]\n",
        "            self.subsets_.append(self.indices_)\n",
        "            dim -= 1\n",
        "\n",
        "            self.scores_.append(scores[best])\n",
        "        self.k_score_ = self.scores_[-1]\n",
        "\n",
        "        return self\n",
        "\n",
        "    def transform(self, X):\n",
        "        return X[:, self.indices_]\n",
        "\n",
        "    def _calc_score(self, X_train, y_train, X_test, y_test, indices):\n",
        "        self.estimator.fit(X_train[:, indices], y_train)\n",
        "        y_pred = self.estimator.predict(X_test[:, indices])\n",
        "        score = self.scoring(y_test, y_pred)\n",
        "        return score\n",
        "    \n",
        "    \n",
        "from sklearn.preprocessing import StandardScaler\n",
        "sc = StandardScaler()\n",
        "X_train_std = sc.fit_transform(X_train)\n",
        "X_test_std = sc.transform(X_test)\n",
        "\n",
        "import matplotlib.pyplot as plt\n",
        "from sklearn.neighbors import KNeighborsClassifier\n",
        "\n",
        "knn = KNeighborsClassifier(n_neighbors=5)\n",
        "\n",
        "# selecting features\n",
        "sbs = SBS(knn, k_features=1)\n",
        "sbs.fit(X_train_std, y_train)\n",
        "\n",
        "# plotting performance of feature subsets\n",
        "k_feat = [len(k) for k in sbs.subsets_]\n",
        "\n",
        "plt.plot(k_feat, sbs.scores_, marker='o')\n",
        "plt.ylim([0.7, 1.02])\n",
        "plt.ylabel('Accuracy')\n",
        "plt.xlabel('Number of features')\n",
        "plt.grid()\n",
        "plt.tight_layout()\n",
        "# plt.savefig('images/04_08.png', dpi=300)\n",
        "plt.show()"
      ],
      "execution_count": 45,
      "outputs": [
        {
          "output_type": "display_data",
          "data": {
            "image/png": "[encoded data removed]",
            "text/plain": [
              "<Figure size 432x288 with 1 Axes>"
            ]
          },
          "metadata": {
            "tags": []
          }
        }
      ]
    },
    {
      "cell_type": "code",
      "metadata": {
        "ExecuteTime": {
          "end_time": "2018-12-08T22:48:25.122047Z",
          "start_time": "2018-12-08T22:44:16.563830Z"
        },
        "id": "co6QKNK6mjVw",
        "colab_type": "code",
        "colab": {}
      },
      "source": [
        "import matplotlib.pyplot as plt\n",
        "from sklearn.neighbors import KNeighborsClassifier\n",
        "\n",
        "lr = LogisticRegression(C= 10, penalty= 'l2')\n",
        "\n",
        "# selecting features\n",
        "sbs = SBS(lr, k_features=1)\n",
        "sbs.fit(X_train_std, y_train)\n",
        "\n",
        "# plotting performance of feature subsets\n",
        "k_feat = [len(k) for k in sbs.subsets_]\n",
        "\n",
        "plt.plot(k_feat, sbs.scores_, marker='o')\n",
        "plt.ylim([0.4, 1.02])\n",
        "plt.ylabel('Accuracy')\n",
        "plt.xlabel('Number of features')\n",
        "plt.grid()\n",
        "plt.tight_layout()\n",
        "# plt.savefig('images/04_08.png', dpi=300)\n",
        "plt.show()"
      ],
      "execution_count": 0,
      "outputs": []
    },
    {
      "cell_type": "code",
      "metadata": {
        "id": "PN9-i6vrmjVx",
        "colab_type": "code",
        "colab": {}
      },
      "source": [
        ""
      ],
      "execution_count": 0,
      "outputs": []
    },
    {
      "cell_type": "markdown",
      "metadata": {
        "id": "sZxydVB8mjV0",
        "colab_type": "text"
      },
      "source": [
        "# Pipelines"
      ]
    },
    {
      "cell_type": "markdown",
      "metadata": {
        "id": "gVCn0riNmjV1",
        "colab_type": "text"
      },
      "source": [
        "All of our data was numerical, so our use of a pipeline was straightforward\n",
        "we used a MinMaxScaler to standardize the data, and used a classifier for the method.\n",
        "We also used a parameter grid for the penalty and C values, and then put it into a grid.\n",
        "We have run this dozens of times in order to evaluate our features, but in this first phase we have\n",
        "not experimented with other types of methods -- we will explore those in future runs.\n",
        "We will show a few illustrative runs below."
      ]
    },
    {
      "cell_type": "markdown",
      "metadata": {
        "id": "vT153gDcmjV1",
        "colab_type": "text"
      },
      "source": [
        "## Pipeline - grid search using logistic regression model"
      ]
    },
    {
      "cell_type": "code",
      "metadata": {
        "ExecuteTime": {
          "end_time": "2018-12-08T22:48:57.522900Z",
          "start_time": "2018-12-08T22:48:55.032757Z"
        },
        "id": "j43AHtt6mjV2",
        "colab_type": "code",
        "colab": {}
      },
      "source": [
        "from sklearn import metrics\n",
        "from sklearn.ensemble import RandomForestClassifier\n",
        "from sklearn.metrics import classification_report, f1_score, accuracy_score, precision_score, confusion_matrix\n",
        "from sklearn.pipeline import Pipeline\n",
        "from sklearn.feature_extraction.text import TfidfVectorizer\n",
        "from sklearn.feature_extraction.text import CountVectorizer\n",
        "from sklearn.feature_extraction.text import TfidfTransformer\n",
        "\n",
        "\n",
        "pipe_model = Pipeline([('scaler', MinMaxScaler()),\n",
        "                  ('classifier', LogisticRegression())])\n",
        "\n",
        " #Classifier Pipeline\n",
        "pipeline = Pipeline([\n",
        "    ('scaler', MinMaxScaler()),\n",
        "    ('classifier', RandomForestClassifier())\n",
        "])\n",
        "# Params for classifier\n",
        "params = {\"classifier__max_depth\": [2, None],\n",
        "              \"classifier__max_features\": [5,10],\n",
        "             # \"classifier__min_samples_split\": [1, 3, 10],\n",
        "             # \"classifier__min_samples_leaf\": [0, 0.5],\n",
        "              # \"bootstrap\": [True, False],\n",
        "              \"classifier__criterion\": [\"gini\", \"entropy\"]}\n",
        "\n",
        "# Grid Search Execute\n",
        "rf_grid = GridSearchCV(estimator=pipeline , param_grid=params) #cv=10\n",
        "rf_detector = rf_grid.fit(X_train, y_train)\n",
        "print(rf_grid.cv_results_)\n",
        "\n",
        "\n",
        "preds_train = rf_grid.best_estimator_.predict(X_train)\n",
        "preds_test= rf_grid.best_estimator_.predict(X_test)\n",
        "print(\"best params    \",rf_grid.best_params_)\n",
        "print(\"best_estimator_   \",rf_grid.best_estimator_)"
      ],
      "execution_count": 0,
      "outputs": []
    },
    {
      "cell_type": "code",
      "metadata": {
        "ExecuteTime": {
          "end_time": "2018-12-08T22:49:02.400179Z",
          "start_time": "2018-12-08T22:49:02.376177Z"
        },
        "id": "ZY7SYs8lmjV5",
        "colab_type": "code",
        "colab": {}
      },
      "source": [
        "results = pd.DataFrame(columns=[\"Accuracy\"])\n",
        "\n",
        "#zero_coef = rf_grid.best_estimator_.named_steps['classifier'].coef_.size - np.count_nonzero(rf_grid.best_estimator_.named_steps['classifier'].coef_)\n",
        "results = results.append(pd.DataFrame(\n",
        "        [[np.round(accuracy_score(y_train, preds_train), 3)],[np.round(accuracy_score(y_test, preds_test), 3)]], \n",
        "        columns=[\"Accuracy\"],\n",
        "        index=[\"Sklearn-LR-L1-C1 Train-Mod\", \"Sklearn-LR-L1-C1 Test-Mod\"]))\n",
        "results"
      ],
      "execution_count": 0,
      "outputs": []
    },
    {
      "cell_type": "markdown",
      "metadata": {
        "id": "Z8naL0VAmjV6",
        "colab_type": "text"
      },
      "source": [
        "## CHECKING USING ESTIMATOR - LogisticRegression(), RandomForestClassifier(), GaussianNB()"
      ]
    },
    {
      "cell_type": "code",
      "metadata": {
        "ExecuteTime": {
          "end_time": "2018-12-08T22:49:34.382008Z",
          "start_time": "2018-12-08T22:49:34.367007Z"
        },
        "id": "gEkEYAi2mjV6",
        "colab_type": "code",
        "colab": {}
      },
      "source": [
        "from sklearn.model_selection import KFold\n",
        "cv = KFold(n_splits=10, shuffle=True, random_state=42)\n",
        "cv_idx = list(cv.split(X_train, y_train))"
      ],
      "execution_count": 0,
      "outputs": []
    },
    {
      "cell_type": "code",
      "metadata": {
        "ExecuteTime": {
          "end_time": "2018-12-08T22:49:43.776545Z",
          "start_time": "2018-12-08T22:49:40.459356Z"
        },
        "id": "nNFFi3DCmjV7",
        "colab_type": "code",
        "colab": {}
      },
      "source": [
        "from sklearn.pipeline import Pipeline\n",
        "from sklearn.preprocessing import MinMaxScaler\n",
        "from sklearn.naive_bayes import GaussianNB\n",
        "from time import time\n",
        "\n",
        "\n",
        "acc = None\n",
        "cm = None\n",
        "estimator = [LogisticRegression(), RandomForestClassifier(), GaussianNB()]\n",
        "\n",
        "finalAccuracy = 0\n",
        "\n",
        "for e in estimator:\n",
        "    for train_idx, test_idx in cv_idx:\n",
        "\n",
        "        # split\n",
        "        #X_train, X_test = Results2017.values[train_idx], Results2017.values[test_idx]\n",
        "        #y_train, y_test = y[train_idx], y[test_idx]\n",
        "\n",
        "        # create logistic regression pipeline\n",
        "        model = Pipeline([('scaler', MinMaxScaler()),\n",
        "                          ('classifier', e)])\n",
        "        \n",
        "        t0 = time()\n",
        "        model.fit(X_train, y_train)\n",
        "        print(\"done in %0.3fs\" % (time() - t0))\n",
        "        y_pred = model.predict(X_test)\n",
        "\n",
        "        # evaluate\n",
        "        \n",
        "        tempAccuracy = np.round(accuracy_score(y_test, y_pred), 3)\n",
        "        if tempAccuracy > finalAccuracy :\n",
        "            finalAccuracy = tempAccuracy\n",
        "\n",
        "        print(\"Train accuracy :\", np.round(accuracy_score(y_train, preds_train), 3))\n",
        "        print(\"Test accuracy :\", np.round(accuracy_score(y_test, y_pred), 3))\n",
        "        \n",
        "        \n",
        "\n",
        "print (\"finalAccuracy  :: \" , finalAccuracy)\n"
      ],
      "execution_count": 0,
      "outputs": []
    },
    {
      "cell_type": "code",
      "metadata": {
        "ExecuteTime": {
          "end_time": "2018-12-08T22:49:50.040904Z",
          "start_time": "2018-12-08T22:49:50.022903Z"
        },
        "id": "Eh72xkIrmjV9",
        "colab_type": "code",
        "colab": {}
      },
      "source": [
        "pd.set_option('display.max_colwidth', -1)\n",
        "runResults = pd.DataFrame(columns=['Model_Description', 'Bagging', 'accuracy_score'])\n",
        "runResults.loc[0] = ['LogisticRegression/RandomForestClassifier/GaussianNB', 'Estimator', finalAccuracy ]"
      ],
      "execution_count": 0,
      "outputs": []
    },
    {
      "cell_type": "code",
      "metadata": {
        "ExecuteTime": {
          "end_time": "2018-12-08T22:49:52.132023Z",
          "start_time": "2018-12-08T22:49:52.110022Z"
        },
        "id": "obiW12ZRmjV-",
        "colab_type": "code",
        "colab": {}
      },
      "source": [
        "runResults"
      ],
      "execution_count": 0,
      "outputs": []
    },
    {
      "cell_type": "markdown",
      "metadata": {
        "id": "Pkxr9ebumjWC",
        "colab_type": "text"
      },
      "source": [
        "## Bagging - Using DecisionTreeClassifier - Calculate Accuracy"
      ]
    },
    {
      "cell_type": "code",
      "metadata": {
        "ExecuteTime": {
          "end_time": "2018-12-08T22:50:11.113109Z",
          "start_time": "2018-12-08T22:50:02.524618Z"
        },
        "id": "1rpnOQ_ImjWC",
        "colab_type": "code",
        "colab": {}
      },
      "source": [
        "from sklearn.ensemble import BaggingClassifier\n",
        "from sklearn.tree import DecisionTreeClassifier\n",
        "from sklearn.metrics import accuracy_score\n",
        "\n",
        "bag_clf = BaggingClassifier(\n",
        "    DecisionTreeClassifier(random_state=42), n_estimators=500,\n",
        "    max_samples=100, bootstrap=True, n_jobs=-1, random_state=42)\n",
        "bag_clf.fit(X_train, y_train)\n",
        "y_pred = bag_clf.predict(X_test)\n",
        "\n",
        "\n",
        "print(accuracy_score(y_test, y_pred))\n",
        "\n",
        "tree_clf = DecisionTreeClassifier(random_state=42)\n",
        "tree_clf.fit(X_train, y_train)\n",
        "y_pred_tree = tree_clf.predict(X_test)\n",
        "print(accuracy_score(y_test, y_pred_tree))\n",
        "\n",
        "print(\"BaggingClassifier - DecisionTreeClassifier accuracy_score :: \" , accuracy_score(y_test, y_pred))\n",
        "\n",
        "runResults.loc[1] = ['DecisionTreeClassifier', 'No', accuracy_score(y_test, y_pred_tree)]\n",
        "runResults.loc[2] = ['BaggingClassifier - DecisionTreeClassifier', 'Yes', accuracy_score(y_test, y_pred)]"
      ],
      "execution_count": 0,
      "outputs": []
    },
    {
      "cell_type": "code",
      "metadata": {
        "ExecuteTime": {
          "end_time": "2018-12-08T22:50:11.133110Z",
          "start_time": "2018-12-08T22:50:11.117109Z"
        },
        "id": "G7-j8FhZmjWD",
        "colab_type": "code",
        "colab": {}
      },
      "source": [
        "runResults"
      ],
      "execution_count": 0,
      "outputs": []
    },
    {
      "cell_type": "markdown",
      "metadata": {
        "id": "VVqDjNKXmjWE",
        "colab_type": "text"
      },
      "source": [
        "## Bagging - Using Logistic Regression - Calculate Accuracy."
      ]
    },
    {
      "cell_type": "code",
      "metadata": {
        "ExecuteTime": {
          "end_time": "2018-12-08T22:52:40.394647Z",
          "start_time": "2018-12-08T22:50:16.041391Z"
        },
        "id": "ZGjCr4e4mjWE",
        "colab_type": "code",
        "colab": {}
      },
      "source": [
        "from sklearn.ensemble import BaggingClassifier\n",
        "from sklearn.tree import DecisionTreeClassifier\n",
        "from sklearn.metrics import accuracy_score\n",
        "\n",
        "bag_clf = BaggingClassifier(\n",
        "    LogisticRegression(random_state=42), n_estimators=500,\n",
        "    max_samples=100, bootstrap=True, n_jobs=-1, random_state=42)\n",
        "bag_clf.fit(X_train, y_train)\n",
        "y_pred = bag_clf.predict(X_test)\n",
        "\n",
        "\n",
        "print(accuracy_score(y_test, y_pred))\n",
        "\n",
        "\n",
        "clf = LogisticRegression(random_state=42)\n",
        "clf.fit(X_train, y_train)\n",
        "y_pred_tree = clf.predict(X_test)\n",
        "print(accuracy_score(y_test, y_pred_tree))"
      ],
      "execution_count": 0,
      "outputs": []
    },
    {
      "cell_type": "code",
      "metadata": {
        "ExecuteTime": {
          "end_time": "2018-12-08T22:52:40.443650Z",
          "start_time": "2018-12-08T22:52:40.398647Z"
        },
        "id": "iOMM-EY-mjWG",
        "colab_type": "code",
        "colab": {}
      },
      "source": [
        "runResults.loc[3] = ['LogisticRegression', 'No', accuracy_score(y_test, y_pred_tree)]\n",
        "runResults.loc[4] = ['BaggingClassifier - LogisticRegression', 'Yes', accuracy_score(y_test, y_pred) ]\n",
        "runResults"
      ],
      "execution_count": 0,
      "outputs": []
    },
    {
      "cell_type": "markdown",
      "metadata": {
        "id": "X9-WsNa1mjWH",
        "colab_type": "text"
      },
      "source": [
        "## Bagging using sklearn.neighbors.NearestNeighbors"
      ]
    },
    {
      "cell_type": "code",
      "metadata": {
        "ExecuteTime": {
          "end_time": "2018-12-08T22:56:07.414488Z",
          "start_time": "2018-12-08T22:55:57.978948Z"
        },
        "id": "8b2ijALdmjWH",
        "colab_type": "code",
        "colab": {}
      },
      "source": [
        "from sklearn.ensemble import BaggingClassifier\n",
        "from sklearn.neighbors import KNeighborsClassifier\n",
        "from sklearn.metrics import accuracy_score\n",
        "\n",
        "bag_clf = BaggingClassifier(KNeighborsClassifier(n_neighbors=5), n_estimators=500,\n",
        "    max_samples=100, bootstrap=True, n_jobs=-1)\n",
        "bag_clf.fit(X_train, y_train)\n",
        "\n",
        "y_pred = bag_clf.predict(X_test)\n",
        "\n",
        "\n",
        "print(\"BaggingClassifier - KNeighborsClassifier accuracy_score :: \" , accuracy_score(y_test, y_pred))\n",
        "\n",
        "clf = KNeighborsClassifier(n_neighbors=5, n_jobs=-1)\n",
        "clf.fit(X_train, y_train)\n",
        "y_pred_tree = clf.predict(X_test)\n",
        "print(\"KNeighborsClassifier accuracy_score :: \" , accuracy_score(y_test, y_pred_tree))\n",
        "\n",
        "\n",
        "runResults.loc[5] = ['KNeighborsClassifier', 'No', accuracy_score(y_test, y_pred_tree)]\n",
        "runResults.loc[6] = ['BaggingClassifier - KNeighborsClassifier', 'Yes', accuracy_score(y_test, y_pred) ]\n",
        "runResults"
      ],
      "execution_count": 0,
      "outputs": []
    },
    {
      "cell_type": "markdown",
      "metadata": {
        "id": "dAwpnxWrmjWJ",
        "colab_type": "text"
      },
      "source": [
        "## Bagging using from sklearn.ensemble import RandomForestClassifier"
      ]
    },
    {
      "cell_type": "code",
      "metadata": {
        "ExecuteTime": {
          "end_time": "2018-12-08T22:56:32.014895Z",
          "start_time": "2018-12-08T22:56:19.019152Z"
        },
        "id": "7hQrLCASmjWJ",
        "colab_type": "code",
        "colab": {}
      },
      "source": [
        "from sklearn.ensemble import BaggingClassifier\n",
        "from sklearn.ensemble import RandomForestClassifier\n",
        "from sklearn.metrics import accuracy_score\n",
        "\n",
        "pipeline = Pipeline([\n",
        "    ('scaler', StandardScaler()),\n",
        "    ('classifier', RandomForestClassifier())\n",
        "])\n",
        "\n",
        "bag_clf = BaggingClassifier(pipeline, n_estimators=500,\n",
        "    max_samples=100, bootstrap=True, n_jobs=-1)\n",
        "bag_clf.fit(X_train, y_train)\n",
        "y_pred = bag_clf.predict(X_test)\n",
        "\n",
        "\n",
        "print(\"BaggingClassifier - RandomForestClassifier accuracy_score :: \" , accuracy_score(y_test, y_pred))\n",
        "\n",
        "clf = RandomForestClassifier(n_jobs=-1)\n",
        "clf.fit(X_train, y_train)\n",
        "y_pred_tree = clf.predict(X_test)\n",
        "print(\"RandomForestClassifier accuracy_score :: \" , accuracy_score(y_test, y_pred_tree))\n",
        "\n",
        "\n",
        "runResults.loc[7] = ['RandomForestClassifier-StandardScaler', 'No', accuracy_score(y_test, y_pred_tree)]\n",
        "runResults.loc[8] = ['BaggingClassifier - RandomForest-StandardScaler', 'Yes', accuracy_score(y_test, y_pred)]\n",
        "runResults"
      ],
      "execution_count": 0,
      "outputs": []
    },
    {
      "cell_type": "markdown",
      "metadata": {
        "id": "llpZtGF8mjWK",
        "colab_type": "text"
      },
      "source": [
        "## Bagging using from sklearn.ensemble import RandomForestClassifier - MinMaxScaler"
      ]
    },
    {
      "cell_type": "code",
      "metadata": {
        "ExecuteTime": {
          "end_time": "2018-12-08T22:56:45.574671Z",
          "start_time": "2018-12-08T22:56:32.018895Z"
        },
        "id": "LiGrm2TsmjWK",
        "colab_type": "code",
        "colab": {}
      },
      "source": [
        "from sklearn.ensemble import BaggingClassifier\n",
        "from sklearn.ensemble import RandomForestClassifier\n",
        "from sklearn.metrics import accuracy_score\n",
        "\n",
        "pipeline = Pipeline([\n",
        "    ('scaler', MinMaxScaler()),    \n",
        "    ('classifier', RandomForestClassifier())\n",
        "])\n",
        "\n",
        "bag_clf = BaggingClassifier(pipeline, n_estimators=500,\n",
        "    max_samples=100, bootstrap=True, n_jobs=-1)\n",
        "bag_clf.fit(X_train, y_train)\n",
        "y_pred = bag_clf.predict(X_test)\n",
        "\n",
        "\n",
        "print(\"BaggingClassifier - RandomForestClassifier accuracy_score :: \" , accuracy_score(y_test, y_pred))\n",
        "\n",
        "clf = RandomForestClassifier(n_jobs=-1)\n",
        "clf.fit(X_train, y_train)\n",
        "y_pred_tree = clf.predict(X_test)\n",
        "print(\"RandomForestClassifier accuracy_score :: \" , accuracy_score(y_test, y_pred_tree))\n",
        "\n",
        "\n",
        "runResults.loc[9] = ['RandomForestClassifier-MinMaxScaler', 'No', accuracy_score(y_test, y_pred_tree)]\n",
        "runResults.loc[10] = ['BaggingClassifier - RandomForest-MinMaxScaler', 'Yes', accuracy_score(y_test, y_pred) ]\n",
        "runResults"
      ],
      "execution_count": 0,
      "outputs": []
    },
    {
      "cell_type": "markdown",
      "metadata": {
        "id": "jeuj-_XUmjWO",
        "colab_type": "text"
      },
      "source": [
        "## Bagging using from sklearn.ensemble import SVM - StandardScaler"
      ]
    },
    {
      "cell_type": "code",
      "metadata": {
        "ExecuteTime": {
          "end_time": "2018-12-08T22:56:59.323457Z",
          "start_time": "2018-12-08T22:56:45.581671Z"
        },
        "id": "bzFz9OyymjWP",
        "colab_type": "code",
        "colab": {}
      },
      "source": [
        "from sklearn.ensemble import BaggingClassifier\n",
        "from sklearn.svm import SVC\n",
        "from sklearn.metrics import accuracy_score\n",
        "\n",
        "pipeline = Pipeline([\n",
        "    ('scaler', StandardScaler()),    \n",
        "    ('classifier', SVC())\n",
        "])\n",
        "\n",
        "bag_clf = BaggingClassifier(pipeline, n_estimators=500,\n",
        "    max_samples=100, bootstrap=True, n_jobs=-1)\n",
        "bag_clf.fit(X_train, y_train)\n",
        "y_pred = bag_clf.predict(X_test)\n",
        "\n",
        "\n",
        "print(\"BaggingClassifier - SVC accuracy_score :: \" , accuracy_score(y_test, y_pred))\n",
        "\n",
        "clf = SVC()\n",
        "clf.fit(X_train, y_train)\n",
        "y_pred_tree = clf.predict(X_test)\n",
        "print(\"SVC accuracy_score :: \" , accuracy_score(y_test, y_pred_tree))\n",
        "\n",
        "\n",
        "runResults.loc[11] = ['SVC-StdScaler', 'No', accuracy_score(y_test, y_pred_tree)]\n",
        "runResults.loc[12] = ['BaggingClassifier - SVC-StdMaxScaler', 'Yes', accuracy_score(y_test, y_pred)]\n",
        "runResults"
      ],
      "execution_count": 0,
      "outputs": []
    },
    {
      "cell_type": "markdown",
      "metadata": {
        "id": "le8RLztPmjWQ",
        "colab_type": "text"
      },
      "source": [
        "## Bagging using from sklearn.ensemble import SVM - MinMaxScaler"
      ]
    },
    {
      "cell_type": "code",
      "metadata": {
        "ExecuteTime": {
          "end_time": "2018-12-08T22:57:12.256197Z",
          "start_time": "2018-12-08T22:56:59.326457Z"
        },
        "id": "DsZdSIDXmjWQ",
        "colab_type": "code",
        "colab": {}
      },
      "source": [
        "from sklearn.ensemble import BaggingClassifier\n",
        "from sklearn.svm import SVC\n",
        "from sklearn.metrics import accuracy_score\n",
        "\n",
        "pipeline = Pipeline([\n",
        "    ('scaler', MinMaxScaler()),    \n",
        "    ('classifier', SVC())\n",
        "])\n",
        "\n",
        "bag_clf = BaggingClassifier(pipeline, n_estimators=500,\n",
        "    max_samples=100, bootstrap=True, n_jobs=-1)\n",
        "bag_clf.fit(X_train, y_train)\n",
        "y_pred = bag_clf.predict(X_test)\n",
        "\n",
        "\n",
        "print(\"BaggingClassifier - SVC accuracy_score :: \" , accuracy_score(y_test, y_pred))\n",
        "\n",
        "clf = SVC()\n",
        "clf.fit(X_train, y_train)\n",
        "y_pred_tree = clf.predict(X_test)\n",
        "print(\"SVC accuracy_score :: \" , accuracy_score(y_test, y_pred_tree))\n",
        "\n",
        "runResults.loc[13] = ['SVC-MinMaxScaler', 'No', accuracy_score(y_test, y_pred_tree)]\n",
        "runResults.loc[14] = ['BaggingClassifier - SVC-MinMaxScaler', 'Yes', accuracy_score(y_test, y_pred) ]\n",
        "runResults"
      ],
      "execution_count": 0,
      "outputs": []
    },
    {
      "cell_type": "markdown",
      "metadata": {
        "id": "hnXB8PPlmjWT",
        "colab_type": "text"
      },
      "source": [
        "## Bagging using from sklearn.ensemble import SGDClassifier"
      ]
    },
    {
      "cell_type": "markdown",
      "metadata": {
        "id": "ez-WuxlbmjWU",
        "colab_type": "text"
      },
      "source": [
        "### SGDClassifier(loss=\"modified_huber\", shuffle=True))"
      ]
    },
    {
      "cell_type": "code",
      "metadata": {
        "ExecuteTime": {
          "end_time": "2018-12-08T23:04:26.718047Z",
          "start_time": "2018-12-08T23:04:18.558580Z"
        },
        "id": "r95BA_cQmjWU",
        "colab_type": "code",
        "colab": {}
      },
      "source": [
        "from sklearn.ensemble import BaggingClassifier\n",
        "from sklearn.linear_model import SGDClassifier\n",
        "from sklearn.metrics import accuracy_score\n",
        "\n",
        "pipeline = Pipeline([\n",
        "    ('scaler', StandardScaler()),    \n",
        "    ('classifier', SGDClassifier(loss=\"modified_huber\", shuffle=True))\n",
        "])\n",
        "\n",
        "bag_clf = BaggingClassifier(pipeline, n_estimators=500,\n",
        "    max_samples=100, bootstrap=True, n_jobs=-1)\n",
        "bag_clf.fit(X_train, y_train)\n",
        "y_pred = bag_clf.predict(X_test)\n",
        "\n",
        "\n",
        "print(\"BaggingClassifier - SGDClassifier accuracy_score :: \" , accuracy_score(y_test, y_pred))\n",
        "\n",
        "clf = SGDClassifier(loss=\"modified_huber\", shuffle=True)\n",
        "clf.fit(X_train, y_train)\n",
        "y_pred_tree = clf.predict(X_test)\n",
        "print(\"SGDClassifier accuracy_score :: \" , accuracy_score(y_test, y_pred_tree))\n",
        "\n",
        "\n",
        "runResults.loc[15] = ['SGDClassifier-StandardScaler', 'No', accuracy_score(y_test, y_pred_tree)]\n",
        "runResults.loc[16] = ['BaggingClassifier - SGDClassifier-StandardScaler', 'Yes', accuracy_score(y_test, y_pred) ]\n",
        "runResults"
      ],
      "execution_count": 0,
      "outputs": []
    },
    {
      "cell_type": "markdown",
      "metadata": {
        "id": "WBO30x1PmjWW",
        "colab_type": "text"
      },
      "source": [
        "### SGDClassifier(loss=\"log\", shuffle=True)"
      ]
    },
    {
      "cell_type": "code",
      "metadata": {
        "ExecuteTime": {
          "end_time": "2018-12-08T23:04:41.952918Z",
          "start_time": "2018-12-08T23:04:33.939460Z"
        },
        "id": "jSmgzAO9mjWW",
        "colab_type": "code",
        "colab": {}
      },
      "source": [
        "from sklearn.ensemble import BaggingClassifier\n",
        "from sklearn.linear_model import SGDClassifier\n",
        "from sklearn.metrics import accuracy_score\n",
        "\n",
        "pipeline = Pipeline([\n",
        "    ('scaler', StandardScaler()),    \n",
        "    ('classifier', SGDClassifier(loss=\"log\", shuffle=True))\n",
        "])\n",
        "\n",
        "bag_clf = BaggingClassifier(pipeline, n_estimators=500,\n",
        "    max_samples=100, bootstrap=True, n_jobs=-1)\n",
        "bag_clf.fit(X_train, y_train)\n",
        "y_pred = bag_clf.predict(X_test)\n",
        "\n",
        "\n",
        "print(\"BaggingClassifier - SGDClassifier accuracy_score :: \" , accuracy_score(y_test, y_pred))\n",
        "\n",
        "clf = SGDClassifier(loss=\"log\", shuffle=True)\n",
        "clf.fit(X_train, y_train)\n",
        "y_pred_tree = clf.predict(X_test)\n",
        "print(\"SGDClassifier accuracy_score :: \" , accuracy_score(y_test, y_pred_tree))\n",
        "\n",
        "runResults.loc[17] = ['SGDClassifier-StandardScaler-log', 'No', accuracy_score(y_test, y_pred_tree)]\n",
        "runResults.loc[18] = ['BaggingClassifier - SGDClassifier-StandardScaler-log', 'Yes', accuracy_score(y_test, y_pred)]\n",
        "runResults"
      ],
      "execution_count": 0,
      "outputs": []
    },
    {
      "cell_type": "markdown",
      "metadata": {
        "id": "yaJ-xeJqmjWZ",
        "colab_type": "text"
      },
      "source": [
        "### SGDClassifier(loss=\"hinge\", shuffle=True)"
      ]
    },
    {
      "cell_type": "code",
      "metadata": {
        "ExecuteTime": {
          "end_time": "2018-12-08T23:04:50.010379Z",
          "start_time": "2018-12-08T23:04:41.957918Z"
        },
        "id": "hdGW_koTmjWZ",
        "colab_type": "code",
        "colab": {}
      },
      "source": [
        "from sklearn.ensemble import BaggingClassifier\n",
        "from sklearn.linear_model import SGDClassifier\n",
        "from sklearn.metrics import accuracy_score\n",
        "\n",
        "pipeline = Pipeline([\n",
        "    ('scaler', StandardScaler()),    \n",
        "    ('classifier', SGDClassifier(loss=\"hinge\", shuffle=True))\n",
        "])\n",
        "\n",
        "bag_clf = BaggingClassifier(pipeline, n_estimators=500,\n",
        "    max_samples=100, bootstrap=True, n_jobs=-1)\n",
        "bag_clf.fit(X_train, y_train)\n",
        "y_pred = bag_clf.predict(X_test)\n",
        "\n",
        "\n",
        "print(\"BaggingClassifier - SGDClassifier accuracy_score :: \" , accuracy_score(y_test, y_pred))\n",
        "\n",
        "clf = SGDClassifier(loss=\"hinge\", shuffle=True)\n",
        "clf.fit(X_train, y_train)\n",
        "y_pred_tree = clf.predict(X_test)\n",
        "print(\"SGDClassifier accuracy_score :: \" , accuracy_score(y_test, y_pred_tree))\n",
        "\n",
        "runResults.loc[19] = ['SGDClassifier-StandardScaler-hinge', 'No', accuracy_score(y_test, y_pred_tree)]\n",
        "runResults.loc[20] = ['BaggingClassifier - SGDClassifier-StandardScaler-hinge', 'Yes', accuracy_score(y_test, y_pred)]\n",
        "runResults"
      ],
      "execution_count": 0,
      "outputs": []
    },
    {
      "cell_type": "markdown",
      "metadata": {
        "id": "qtRF4LiWmjWc",
        "colab_type": "text"
      },
      "source": [
        "## Bagging using from GaussianNB"
      ]
    },
    {
      "cell_type": "code",
      "metadata": {
        "ExecuteTime": {
          "end_time": "2018-12-08T23:04:57.972834Z",
          "start_time": "2018-12-08T23:04:50.016379Z"
        },
        "id": "wszS4aeXmjWc",
        "colab_type": "code",
        "colab": {}
      },
      "source": [
        "from sklearn.ensemble import BaggingClassifier\n",
        "from sklearn.naive_bayes import GaussianNB\n",
        "from sklearn.metrics import accuracy_score\n",
        "\n",
        "pipeline = Pipeline([\n",
        "    ('scaler', StandardScaler()),    \n",
        "    ('classifier', GaussianNB())\n",
        "])\n",
        "\n",
        "bag_clf = BaggingClassifier(pipeline, n_estimators=500,\n",
        "    max_samples=100, bootstrap=True, n_jobs=-1)\n",
        "bag_clf.fit(X_train, y_train)\n",
        "y_pred = bag_clf.predict(X_test)\n",
        "\n",
        "\n",
        "print(\"BaggingClassifier - GaussianNB accuracy_score :: \" , accuracy_score(y_test, y_pred))\n",
        "\n",
        "clf = GaussianNB()\n",
        "clf.fit(X_train, y_train)\n",
        "y_pred_tree = clf.predict(X_test)\n",
        "print(\"GaussianNB accuracy_score :: \" , accuracy_score(y_test, y_pred_tree))\n",
        "\n",
        "\n",
        "runResults.loc[21] = ['GaussianNB-StandardScaler', 'No', accuracy_score(y_test, y_pred_tree)]\n",
        "runResults.loc[22] = ['BaggingClassifier - GaussianNB-StandardScaler', 'Yes', accuracy_score(y_test, y_pred) ]\n",
        "runResults"
      ],
      "execution_count": 0,
      "outputs": []
    },
    {
      "cell_type": "markdown",
      "metadata": {
        "id": "Mtqh8rZPmjWf",
        "colab_type": "text"
      },
      "source": [
        "## Bagging using from LogisticRegression"
      ]
    },
    {
      "cell_type": "code",
      "metadata": {
        "ExecuteTime": {
          "end_time": "2018-12-08T23:05:05.945290Z",
          "start_time": "2018-12-08T23:04:57.976835Z"
        },
        "id": "yEPCX0QJmjWf",
        "colab_type": "code",
        "colab": {}
      },
      "source": [
        "from sklearn.ensemble import BaggingClassifier\n",
        "from sklearn.metrics import accuracy_score\n",
        "\n",
        "pipeline = Pipeline([\n",
        "    ('scaler', MinMaxScaler()),    \n",
        "    ('classifier', LogisticRegression())\n",
        "])\n",
        "\n",
        "bag_clf = BaggingClassifier(pipeline, n_estimators=500,\n",
        "    max_samples=100, bootstrap=True, n_jobs=-1)\n",
        "bag_clf.fit(X_train, y_train)\n",
        "y_pred = bag_clf.predict(X_test)\n",
        "\n",
        "\n",
        "print(\"BaggingClassifier - LogisticRegression accuracy_score :: \" , accuracy_score(y_test, y_pred))\n",
        "\n",
        "clf = LogisticRegression()\n",
        "clf.fit(X_train, y_train)\n",
        "y_pred_tree = clf.predict(X_test)\n",
        "print(\"LogisticRegression accuracy_score :: \" , accuracy_score(y_test, y_pred_tree))"
      ],
      "execution_count": 0,
      "outputs": []
    },
    {
      "cell_type": "markdown",
      "metadata": {
        "id": "z6_35B4rmjWg",
        "colab_type": "text"
      },
      "source": [
        "## SUMMARY:"
      ]
    },
    {
      "cell_type": "markdown",
      "metadata": {
        "id": "w7I2lgOnmjWg",
        "colab_type": "text"
      },
      "source": [
        "We tried following different models and calculated accuracy for each model using various parameters/pipeline process/Bagging approaches etc\n",
        "\n",
        "    1. SVC\n",
        "    2. LogisticRegression\n",
        "    3. SGDClassifier\n",
        "    4. GaussianNB\n",
        "    5. RandomForestClassifier\n",
        "    6. KNeighborsClassifier\n",
        "    7. DecisionTreeClassifier"
      ]
    },
    {
      "cell_type": "markdown",
      "metadata": {
        "ExecuteTime": {
          "end_time": "2018-12-11T05:00:35.439539Z",
          "start_time": "2018-12-11T05:00:35.429538Z"
        },
        "id": "srWAfbHHmjWg",
        "colab_type": "text"
      },
      "source": [
        "The next section contains our best model"
      ]
    },
    {
      "cell_type": "markdown",
      "metadata": {
        "id": "Nls6OdxfmjWh",
        "colab_type": "text"
      },
      "source": [
        "# Best Model"
      ]
    },
    {
      "cell_type": "code",
      "metadata": {
        "ExecuteTime": {
          "end_time": "2018-12-11T05:07:37.167708Z",
          "start_time": "2018-12-11T05:07:37.163707Z"
        },
        "id": "8sET5i_YmjWi",
        "colab_type": "code",
        "colab": {}
      },
      "source": [
        "#DecisionTreeClassifier\n",
        "pipe_model = Pipeline([('scaler', StandardScaler()),\n",
        "                  ('classifier', DecisionTreeClassifier())])\n",
        "\n",
        "param_grid = {'classifier__max_depth': [2],#, 4, 6, 8, 10],\n",
        "                  'classifier__max_features': [63] }\n",
        "\n",
        "gs = GridSearchCV(pipe_model, param_grid, cv=5, verbose=1)"
      ],
      "execution_count": 0,
      "outputs": []
    },
    {
      "cell_type": "code",
      "metadata": {
        "ExecuteTime": {
          "end_time": "2018-12-11T05:07:42.083199Z",
          "start_time": "2018-12-11T05:07:39.979989Z"
        },
        "id": "qFSMSBF5mjWk",
        "colab_type": "code",
        "colab": {}
      },
      "source": [
        "# fit and run predictions\n",
        "pipe_model.named_steps['classifier']\n",
        "gs.fit(X_train, y_train)\n",
        "\n",
        "preds_train = gs.best_estimator_.predict(X_train)\n",
        "preds_test = gs.best_estimator_.predict(X_test)\n",
        "\n",
        "print(\"best params    \",gs.best_params_)"
      ],
      "execution_count": 0,
      "outputs": []
    },
    {
      "cell_type": "code",
      "metadata": {
        "ExecuteTime": {
          "end_time": "2018-12-11T05:07:49.081899Z",
          "start_time": "2018-12-11T05:07:49.024893Z"
        },
        "id": "Wxor6UvrmjWl",
        "colab_type": "code",
        "colab": {}
      },
      "source": [
        "print(\"Train accuracy:\", np.round(accuracy_score(y_train, preds_train), 3))\n",
        "print(\"Test accuracy:\", np.round(accuracy_score(y_test, preds_test), 3))\n",
        "\n",
        "cm_train = confusion_matrix(y_train, preds_train).astype(np.float32)\n",
        "cm_train /= cm_train.sum(axis=1)[:, np.newaxis]\n",
        "\n",
        "cm_test = confusion_matrix(y_test, preds_test).astype(np.float32)\n",
        "cm_test /= cm_test.sum(axis=1)[:, np.newaxis]\n",
        "\n",
        "print(confusion_matrix(y_train, preds_train).astype(np.float32))\n",
        "print(confusion_matrix(y_test, preds_test).astype(np.float32))\n",
        "\n",
        "#np.unique(preds_test, return_counts=True)\n",
        "\n",
        "np.unique(y_test, return_counts=True)"
      ],
      "execution_count": 0,
      "outputs": []
    },
    {
      "cell_type": "code",
      "metadata": {
        "ExecuteTime": {
          "end_time": "2018-12-12T16:04:00.351572Z",
          "start_time": "2018-12-12T16:03:59.716508Z"
        },
        "id": "1gWd2NiemjWm",
        "colab_type": "code",
        "colab": {}
      },
      "source": [
        "plt.figure(figsize=(20, 8))\n",
        "\n",
        "plt.subplot(121)\n",
        "g = sns.heatmap(cm_train, vmin=0, vmax=1, annot=True, cmap=\"Reds\")\n",
        "plt.xlabel(\"Predicted\", fontsize=14)\n",
        "plt.ylabel(\"True\", fontsize=14)\n",
        "#g.set(xticklabels=class_labels, yticklabels=class_labels)\n",
        "plt.title(\"Train\", fontsize=14)\n",
        "\n",
        "plt.subplot(122)\n",
        "g = sns.heatmap(cm_test, vmin=0, vmax=1, annot=True, cmap=\"Reds\")\n",
        "plt.xlabel(\"Predicted\", fontsize=14)\n",
        "plt.ylabel(\"True\", fontsize=14)\n",
        "#g.set(xticklabels=class_labels, yticklabels=class_labels)\n",
        "plt.title(\"Test\", fontsize=14);"
      ],
      "execution_count": 0,
      "outputs": []
    },
    {
      "cell_type": "markdown",
      "metadata": {
        "id": "02jwHxw3mjWp",
        "colab_type": "text"
      },
      "source": [
        "# Experimental Results Table"
      ]
    },
    {
      "cell_type": "code",
      "metadata": {
        "ExecuteTime": {
          "end_time": "2018-12-08T23:05:14.902803Z",
          "start_time": "2018-12-08T23:05:14.884802Z"
        },
        "id": "sgLwpm3emjWp",
        "colab_type": "code",
        "colab": {}
      },
      "source": [
        "runResults.loc[23] = ['Grid Search DecisionTreeClassifier Estimator -StandardScaler', 'Yes', accuracy_score(y_test, preds_test) ]\n",
        "runResults"
      ],
      "execution_count": 0,
      "outputs": []
    },
    {
      "cell_type": "markdown",
      "metadata": {
        "id": "GddBpTBZmjWs",
        "colab_type": "text"
      },
      "source": [
        "# Statistical Significance Test"
      ]
    },
    {
      "cell_type": "markdown",
      "metadata": {
        "id": "K2we_KYXmjWt",
        "colab_type": "text"
      },
      "source": [
        "We compared a vanilla Logistic Regression model with the best model from our Grid Search"
      ]
    },
    {
      "cell_type": "code",
      "metadata": {
        "ExecuteTime": {
          "end_time": "2018-12-11T05:48:41.039070Z",
          "start_time": "2018-12-11T05:48:26.425609Z"
        },
        "id": "iFTqk7gTmjWu",
        "colab_type": "code",
        "colab": {}
      },
      "source": [
        "from sklearn.model_selection import cross_val_score\n",
        "\n",
        "def display_scores(scores):\n",
        "    print(\"Scores:\", scores)\n",
        "    print(\"Mean:\", scores.mean())\n",
        "    print(\"Standard deviation:\", scores.std())\n",
        "\n",
        "# A sampling based bakeoff using *K-fold cross-validation*: \n",
        "# it randomly splits the training set into K distinct subsets (k=30)\n",
        "# this bakeoff framework can be used for regression or classification\n",
        "#Control system is a linear regression based pipeline\n",
        "\n",
        "kFolds=30\n",
        "\n",
        "#X_train_processed = MinMaxScaler(X_train)\n",
        "#X_train_processed = StandardScaler(X_train)\n",
        "X_train_processed = X_train\n",
        "\n",
        "\n",
        "log_reg = LogisticRegression()\n",
        "log_scores = cross_val_score(log_reg, X_train_processed, y_train,\n",
        "                             scoring=\"accuracy\", cv=kFolds)\n",
        "\n",
        "#lin_reg = LinearRegression()\n",
        "#lin_scores = cross_val_score(lin_reg, X_train_processed, y_train,\n",
        "#                             scoring=\"accuracy\", cv=kFolds)\n",
        "\n",
        "control = log_scores\n",
        "#control = lin_scores\n",
        "display_scores(control)\n",
        "\n",
        "#Treatment system is a replica of our grid search model\n",
        "#gs_model = DecisionTreeClassifier(max_depth = 2, max_features = 63)\n",
        "scores = cross_val_score(pipe_model, X_train_processed, y_train,\n",
        "                         scoring=\"accuracy\", cv=kFolds)\n",
        "\n",
        "\n",
        "treatment = scores\n",
        "display_scores(treatment)\n",
        "\n",
        "#paired t-test; two-tailed p-value (aka two-sided)\n",
        "(t_score, p_value) = stats.ttest_rel(control, treatment)\n",
        "print(\"The p-value is %0.5f for a t-score of %0.5f.\" %(p_value, t_score))\n",
        "#\"The p-value is 0.00019 for a t-score of -4.28218.\" \n",
        "if p_value > 0.05/2:  #Two sided \n",
        "    print('There is no significant difference between the two machine learning pipelines (Accept H0)')\n",
        "else:\n",
        "    print('The two machine learning pipelines are different (reject H0) \\n(t_score, p_value) = (%.2f, %.5f)'%(t_score, p_value) )\n",
        "    if t_score < 0.0:\n",
        "        print('Machine learning pipeline A is better than B')\n",
        "    else:\n",
        "        print('Machine learning pipeline B is better than A')"
      ],
      "execution_count": 0,
      "outputs": []
    },
    {
      "cell_type": "code",
      "metadata": {
        "id": "yJlK2Au-Tp9f",
        "colab_type": "code",
        "colab": {}
      },
      "source": [
        "# do basic histograms\n",
        "plt.title('Train / test data')\n",
        "plt.hist(y_train, label='Train')\n",
        "plt.hist(y_test, label='Test')\n",
        "plt.legend(loc='best')\n",
        "plt.show()"
      ],
      "execution_count": 0,
      "outputs": []
    },
    {
      "cell_type": "code",
      "metadata": {
        "id": "W5pHcV6VT06s",
        "colab_type": "code",
        "colab": {}
      },
      "source": [
        "# marker PCA, use whole X with diff color for train and test\n",
        "from sklearn.decomposition import PCA\n",
        "X1 = np.concatenate((X_train, X_test))\n",
        "pca = PCA(n_components=2)\n",
        "p = pca.fit(X1).fit_transform(X1)\n",
        "Ntrain=X_train.shape[0]\n",
        "plt.title('PCA decomposition')\n",
        "plt.scatter(p[0:Ntrain,0], p[0:Ntrain,1], label='Train')\n",
        "plt.scatter(p[Ntrain:,0], p[Ntrain:,1], label='Test', color='orange')\n",
        "plt.legend(loc='best')\n",
        "plt.show()"
      ],
      "execution_count": 0,
      "outputs": []
    },
    {
      "cell_type": "markdown",
      "metadata": {
        "id": "LecykS6RmjWx",
        "colab_type": "text"
      },
      "source": [
        "# Deep Learning Model"
      ]
    },
    {
      "cell_type": "markdown",
      "metadata": {
        "id": "nzUfYv3mmjWx",
        "colab_type": "text"
      },
      "source": [
        ""
      ]
    },
    {
      "cell_type": "code",
      "metadata": {
        "id": "g6bqSbWzmjWy",
        "colab_type": "code",
        "colab": {}
      },
      "source": [
        "import numpy\n",
        "import pandas\n",
        "from keras.models import Sequential\n",
        "from keras.layers import Dense\n",
        "from keras.wrappers.scikit_learn import KerasRegressor\n",
        "from sklearn.model_selection import cross_val_score\n",
        "from sklearn.model_selection import KFold\n",
        "from sklearn.preprocessing import StandardScaler\n",
        "from sklearn.pipeline import Pipeline"
      ],
      "execution_count": 0,
      "outputs": []
    },
    {
      "cell_type": "code",
      "metadata": {
        "id": "JRYlzyflmjW0",
        "colab_type": "code",
        "colab": {}
      },
      "source": [
        "X_train = X_train.loc[:,['NEUTRAL', 'HeFGP', 'HTOR', 'HORR', 'HFTR', 'HOffEf', 'HDefEf',\n",
        "       'AeFGP', 'ATOR', 'AORR', 'AFTR', 'AOffEf', 'ADefEf']]\n",
        "\n",
        "X_test = X_test.loc[:,['NEUTRAL', 'HeFGP', 'HTOR', 'HORR', 'HFTR', 'HOffEf', 'HDefEf',\n",
        "       'AeFGP', 'ATOR', 'AORR', 'AFTR', 'AOffEf', 'ADefEf']]"
      ],
      "execution_count": 0,
      "outputs": []
    },
    {
      "cell_type": "code",
      "metadata": {
        "id": "1tDqxDyjmjW2",
        "colab_type": "code",
        "colab": {}
      },
      "source": [
        "X = [X_train, X_test]\n",
        "X = pd.concat(X)\n",
        "y = [y_train, y_test]\n",
        "y = pd.concat(y)"
      ],
      "execution_count": 0,
      "outputs": []
    },
    {
      "cell_type": "markdown",
      "metadata": {
        "id": "YNvLbH70mjW3",
        "colab_type": "text"
      },
      "source": [
        "## DL - BASE MODEL - Nueral Network - Mean Square Errror loss function"
      ]
    },
    {
      "cell_type": "code",
      "metadata": {
        "id": "t_GrGgs2mjW3",
        "colab_type": "code",
        "colab": {}
      },
      "source": [
        "from keras.models import Sequential \n",
        "from keras.layers import Dense, Activation"
      ],
      "execution_count": 0,
      "outputs": []
    },
    {
      "cell_type": "code",
      "metadata": {
        "id": "siQicMNMmjW4",
        "colab_type": "code",
        "colab": {}
      },
      "source": [
        "def baseline_model():\n",
        "    # create model\n",
        "    model = Sequential()\n",
        "    model.add(Dense(13, input_dim=13, kernel_initializer='normal', activation='relu'))\n",
        "    model.add(Dense(1, kernel_initializer='normal'))\n",
        "    # Compile model\n",
        "    model.compile(loss='mean_squared_error', optimizer='adam')\n",
        "    return model"
      ],
      "execution_count": 0,
      "outputs": []
    },
    {
      "cell_type": "code",
      "metadata": {
        "id": "cwgtZOkkmjW5",
        "colab_type": "code",
        "colab": {}
      },
      "source": [
        "model = baseline_model()\n",
        "model.fit(X_train, y_train, epochs=100, batch_size=100, verbose=0)"
      ],
      "execution_count": 0,
      "outputs": []
    },
    {
      "cell_type": "code",
      "metadata": {
        "id": "jY7nW82ZmjW6",
        "colab_type": "code",
        "colab": {}
      },
      "source": [
        "preds_train = model.predict(X_train)\n",
        "preds_test = model.predict(X_test)"
      ],
      "execution_count": 0,
      "outputs": []
    },
    {
      "cell_type": "code",
      "metadata": {
        "id": "6WFz9OaNmjW7",
        "colab_type": "code",
        "colab": {}
      },
      "source": [
        "print(\"Train accuracy:\", np.round(accuracy_score(y_train, preds_train.round()), 3))\n",
        "print(\"Test accuracy:\", np.round(accuracy_score(y_test, preds_test.round()), 3))"
      ],
      "execution_count": 0,
      "outputs": []
    },
    {
      "cell_type": "code",
      "metadata": {
        "id": "iSWcWQCzXq88",
        "colab_type": "code",
        "colab": {}
      },
      "source": [
        "runResults.loc[24] = ['DEEP LEARNING BASE model', 'No', accuracy_score(y_test, preds_test) ]\n"
      ],
      "execution_count": 0,
      "outputs": []
    },
    {
      "cell_type": "markdown",
      "metadata": {
        "id": "yl3nxKQybXBz",
        "colab_type": "text"
      },
      "source": [
        "## DL - Base Model with fit, evaluate and plat matrix - binary_crossentropy - adam optimizer - sigmoid  WITHOUT STANDARD SCALAR"
      ]
    },
    {
      "cell_type": "code",
      "metadata": {
        "id": "cdR6pp2jmjW_",
        "colab_type": "code",
        "colab": {}
      },
      "source": [
        "## DL - Base Model with fit, evaluate and plat matrix - binary_crossentropy - adam optimizer - sigmoid  WITHOUT STANDARD SCALAR\n",
        "\n",
        "import numpy\n",
        "from sklearn.model_selection import GridSearchCV\n",
        "from keras.models import Sequential\n",
        "from keras.layers import Dense\n",
        "from keras.wrappers.scikit_learn import KerasClassifier\n",
        "# Function to create model, required for KerasClassifier\n",
        "def create_model():\n",
        "    # create model\n",
        "    model = Sequential()\n",
        "    model.add(Dense(13, input_dim=13, activation='relu'))\n",
        "    model.add(Dense(1, activation='sigmoid'))\n",
        "    # Compile model\n",
        "    model.compile(loss='binary_crossentropy', optimizer='adam', metrics=['accuracy'])\n",
        "    return model\n",
        "# fix random seed for reproducibility\n",
        "# create model\n",
        "model = KerasClassifier(build_fn=create_model, verbose=0)\n",
        "model.fit(X_train,y_train, epochs=100, batch_size=80, validation_split = 0.2)\n",
        "preds_train = model.predict(X_train)\n",
        "preds_test = model.predict(X_test)\n",
        "\n",
        "print(\"Train accuracy:\", np.round(accuracy_score(y_train, preds_train.round()), 3))\n",
        "print(\"Test accuracy:\", np.round(accuracy_score(y_test, preds_test.round()), 3))\n"
      ],
      "execution_count": 0,
      "outputs": []
    },
    {
      "cell_type": "code",
      "metadata": {
        "id": "ZRooA0eMXx17",
        "colab_type": "code",
        "colab": {}
      },
      "source": [
        "runResults.loc[24] = ['DEEP LEARNING BASE model Without standardization', 'No', accuracy_score(y_test, preds_test) ]\n"
      ],
      "execution_count": 0,
      "outputs": []
    },
    {
      "cell_type": "markdown",
      "metadata": {
        "id": "fWoTVJIdmjXS",
        "colab_type": "text"
      },
      "source": [
        "## Re-Run The Baseline Model With Data Preparation - TUNING - StandardScaler"
      ]
    },
    {
      "cell_type": "code",
      "metadata": {
        "id": "CmKBN5wOmjW7",
        "colab_type": "code",
        "colab": {}
      },
      "source": [
        "## DL - Base Model with fit, evaluate and plat matrix - binary_crossentropy - adam optimizer - sigmoid - Standard Scalar\n",
        "\n",
        "\n",
        "\n",
        "from keras.layers.advanced_activations import PReLU\n",
        "\n",
        "scale = StandardScaler(with_mean=0, with_std=1)\n",
        "new_X_train = scale.fit_transform(X_train)\n",
        "new_X_test = scale.transform(X_test)\n",
        "\n",
        "model = Sequential()\n",
        "\n",
        "model.add(Dense(13, input_dim=13, kernel_initializer=\"normal\"))\n",
        "model.add(PReLU(alpha_initializer='zero', weights=None))\n",
        "\n",
        "model.add(Dense(1, kernel_initializer='normal'))\n",
        "model.add(Activation('sigmoid'))\n",
        "\n",
        "model.compile(loss='binary_crossentropy', optimizer='adam', metrics=['accuracy'])\n",
        "\n",
        "history = model.fit(new_X_train, y_train, epochs=1000, batch_size=len(X_train), validation_split=0.15, verbose=0)\n",
        "\n",
        "scores = model.evaluate(new_X_test, y_test)\n",
        "print(\"%s: %.2f%%\" % (model.metrics_names[1], scores[1]*100))\n",
        "\n",
        "preds_train1 = model.predict(new_X_train)\n",
        "preds_test1 = model.predict(new_X_test)\n",
        "print(\"Train accuracy:\", np.round(accuracy_score(y_train, preds_train1.round()), 3))\n",
        "print(\"Test accuracy:\", np.round(accuracy_score(y_test, preds_test1.round()), 3))\n",
        "\n"
      ],
      "execution_count": 0,
      "outputs": []
    },
    {
      "cell_type": "code",
      "metadata": {
        "id": "97ZAQVbwmjW9",
        "colab_type": "code",
        "colab": {}
      },
      "source": [
        "print(history.history.keys())\n",
        "\n",
        "plt.plot(history.history['acc'])\n",
        "plt.plot(history.history['val_acc'])\n",
        "plt.title('model accuracy')\n",
        "plt.ylabel('accuracy')\n",
        "plt.xlabel('epoch')\n",
        "plt.legend(['train', 'test'], loc='upper left')\n",
        "plt.show()\n",
        "\n",
        "plt.plot(history.history['loss'])\n",
        "plt.plot(history.history['val_loss'])\n",
        "plt.title('model loss')\n",
        "plt.ylabel('loss')\n",
        "plt.xlabel('epoch')\n",
        "plt.legend(['train', 'test'], loc='upper left')\n",
        "plt.show()"
      ],
      "execution_count": 0,
      "outputs": []
    },
    {
      "cell_type": "markdown",
      "metadata": {
        "id": "gEbGc43WmjXH",
        "colab_type": "text"
      },
      "source": [
        "## DL - Base model with binary binary_crossentropy - ESTIMATOR IMPLEMENTATION AND KFOLD"
      ]
    },
    {
      "cell_type": "code",
      "metadata": {
        "id": "FC0PwyBdmjXJ",
        "colab_type": "code",
        "colab": {}
      },
      "source": [
        "# define base model\n",
        "def baseline_model():\n",
        "    # create model\n",
        "    model = Sequential()\n",
        "    model.add(Dense(13, input_dim=13, kernel_initializer='normal', activation='relu'))\n",
        "    model.add(Dense(1, kernel_initializer='normal'))\n",
        "    # Compile model\n",
        "    model.compile(loss='binary_crossentropy', optimizer='adam')\n",
        "    return model\n",
        "\n",
        "    \n",
        "from keras.wrappers.scikit_learn import KerasRegressor\n",
        "from sklearn.model_selection import cross_val_score, KFold\n",
        "# fix random seed for reproducibility\n",
        "seed = 7\n",
        "np.random.seed(seed)\n",
        "# evaluate model with standardized dataset\n",
        "estimator = KerasRegressor(build_fn=baseline_model, epochs=100, batch_size=5, verbose=0)\n",
        "\n",
        "kfold = KFold(n_splits=10, random_state=seed)\n",
        "results = cross_val_score(estimator, X, y, cv=kfold)\n",
        "print(\"Results: %.2f%% (%.2f%%)\" % (results.mean()*100, results.std()*100))\n",
        "\n",
        "param_grid = {'classifier__max_depth': [2, 4, 6, 8, 10],\n",
        "                  'classifier__max_features': [13]\n",
        "                      #[5, 11, 17, 19]\n",
        "                      #[12,24,36,48,60]#\n",
        "                      #[9, 11, 12, 13]\n",
        "                      #[10, 20, 28, 33]\n",
        "                  }\n",
        "\n",
        "gs = GridSearchCV(estimator, param_grid, cv=5, verbose=1)\n",
        "\n",
        "pipe_model.named_steps['classifier']\n",
        "gs.fit(X_train, y_train)\n",
        "\n",
        "preds_train = gs.best_estimator_.predict(X_train)\n",
        "preds_test = gs.best_estimator_.predict(X_test)\n",
        "\n",
        "print(\"best params    \",gs.best_params_)"
      ],
      "execution_count": 0,
      "outputs": []
    },
    {
      "cell_type": "code",
      "metadata": {
        "id": "WumgLmTud0fR",
        "colab_type": "code",
        "colab": {}
      },
      "source": [
        "runResults.loc[25] = ['DEEP LEARNING BASE model - ESTIMAROT AND KFOLD IMPL', 'No', accuracy_score(y_test, preds_test) ]\n"
      ],
      "execution_count": 0,
      "outputs": []
    },
    {
      "cell_type": "markdown",
      "metadata": {
        "id": "F4CPWmBxmjXb",
        "colab_type": "text"
      },
      "source": [
        "## Model with Grid Search - KerasClassifier - binary_crossentropy - adam - activation [sigmoid. relu]"
      ]
    },
    {
      "cell_type": "code",
      "metadata": {
        "id": "UHN8rs0vmjXb",
        "colab_type": "code",
        "colab": {}
      },
      "source": [
        "import numpy\n",
        "from sklearn.model_selection import GridSearchCV\n",
        "from keras.models import Sequential\n",
        "from keras.layers import Dense\n",
        "from keras.wrappers.scikit_learn import KerasClassifier\n",
        "# Function to create model, required for KerasClassifier\n",
        "def create_model():\n",
        "    # create model\n",
        "    model = Sequential()\n",
        "    model.add(Dense(13, input_dim=13, activation='relu'))\n",
        "    model.add(Dense(1, activation='sigmoid'))\n",
        "    # Compile model\n",
        "    model.compile(loss='binary_crossentropy', optimizer='adam', metrics=['accuracy'])\n",
        "    return model\n",
        "# fix random seed for reproducibility\n",
        "# create model\n",
        "model = KerasClassifier(build_fn=create_model, verbose=0)\n",
        "model.fit(X_train,y_train)\n",
        "# define the grid search parameters\n",
        "batch_size = [10, 20, 40, 60, 80, 100]\n",
        "epochs = [10, 50, 100]\n",
        "param_grid = dict(batch_size=batch_size, epochs=epochs)\n",
        "grid = GridSearchCV(estimator=model, param_grid=param_grid, n_jobs=-1)\n",
        "#grid_result = grid.fit(X, Y)\n",
        "grid_result = grid.fit(X_train,y_train)\n",
        "# summarize results\n",
        "print(\"Best: %f using %s\" % (grid_result.best_score_, grid_result.best_params_))\n",
        "means = grid_result.cv_results_['mean_test_score']\n",
        "stds = grid_result.cv_results_['std_test_score']\n",
        "params = grid_result.cv_results_['params']\n",
        "for mean, stdev, param in zip(means, stds, params):\n",
        "    print(\"%f (%f) with: %r\" % (mean, stdev, param))\n",
        "\n",
        "pred = grid.predict(X_test)\n",
        "preds_train = model.predict(X_train)\n",
        "preds_test = model.predict(X_test)\n",
        "\n",
        "print(\"Train accuracy:\", np.round(accuracy_score(y_train, preds_train.round()), 3))\n",
        "print(\"Test accuracy:\", np.round(accuracy_score(y_test, preds_test.round()), 3))\n"
      ],
      "execution_count": 0,
      "outputs": []
    },
    {
      "cell_type": "code",
      "metadata": {
        "id": "R6x_qLI6eaR_",
        "colab_type": "code",
        "colab": {}
      },
      "source": [
        "runResults.loc[26] = ['DEEP LEARNING BASE model - GRID SEARCH BEST PARAM IMPL', 'No', accuracy_score(y_test, preds_test) ]"
      ],
      "execution_count": 0,
      "outputs": []
    },
    {
      "cell_type": "code",
      "metadata": {
        "id": "3bq_oIskP-TF",
        "colab_type": "code",
        "colab": {}
      },
      "source": [
        ""
      ],
      "execution_count": 0,
      "outputs": []
    },
    {
      "cell_type": "markdown",
      "metadata": {
        "id": "gcVVdDs5cGV1",
        "colab_type": "text"
      },
      "source": [
        "##Model KerasClassifier - binary_crossentropy - adam - activation [sigmoid. relu] - **Root mean square optimizer**"
      ]
    },
    {
      "cell_type": "code",
      "metadata": {
        "id": "R8Br2aEuaGVa",
        "colab_type": "code",
        "colab": {}
      },
      "source": [
        "import numpy\n",
        "from sklearn.model_selection import GridSearchCV\n",
        "from keras.models import Sequential\n",
        "from keras.layers import Dense\n",
        "from keras.wrappers.scikit_learn import KerasClassifier\n",
        "# Function to create model, required for KerasClassifier\n",
        "def create_model():\n",
        "    # create model\n",
        "    model = Sequential()\n",
        "    model.add(Dense(13, activation='relu', input_dim=13))\n",
        "    model.add(Dense(8, activation='relu'))\n",
        "    model.add(Dense(1, activation='sigmoid'))\n",
        "    model.compile(optimizer='rmsprop',loss='binary_crossentropy',metrics=['accuracy'])\n",
        "\n",
        "    return model\n",
        "# fix random seed for reproducibility\n",
        "# create model\n",
        "model = KerasClassifier(build_fn=create_model, verbose=0)\n",
        "model.fit(X_train,y_train, epochs=100, batch_size=80, validation_split = 0.2)\n",
        "preds_train = model.predict(X_train)\n",
        "preds_test = model.predict(X_test)\n",
        "\n",
        "print(\"Train accuracy:\", np.round(accuracy_score(y_train, preds_train.round()), 3))\n",
        "print(\"Test accuracy:\", np.round(accuracy_score(y_test, preds_test.round()), 3))\n"
      ],
      "execution_count": 0,
      "outputs": []
    },
    {
      "cell_type": "code",
      "metadata": {
        "id": "AX0yDMbQe1gd",
        "colab_type": "code",
        "colab": {}
      },
      "source": [
        "runResults.loc[27] = ['DEEP LEARNING BASE model - ROOT MEAN SQUARE OPTIMIZER', 'No', accuracy_score(y_test, preds_test) ]"
      ],
      "execution_count": 0,
      "outputs": []
    },
    {
      "cell_type": "markdown",
      "metadata": {
        "id": "5dcowHLrcaBf",
        "colab_type": "text"
      },
      "source": [
        "##Model with Grid Search - KerasClassifier - binary_crossentropy - adam - activation [sigmoid. relu] - **Stochastic gradient descent (SGD)**"
      ]
    },
    {
      "cell_type": "code",
      "metadata": {
        "id": "dZeh5l5QbrOk",
        "colab_type": "code",
        "colab": {}
      },
      "source": [
        "import numpy\n",
        "from sklearn.model_selection import GridSearchCV\n",
        "from keras.models import Sequential\n",
        "from keras.layers import Dense\n",
        "from keras.wrappers.scikit_learn import KerasClassifier\n",
        "# Function to create model, required for KerasClassifier\n",
        "def create_model():\n",
        "    # create model\n",
        "    model = Sequential()\n",
        "    model.add(Dense(13, activation='relu', input_dim=13))\n",
        "    model.add(Dense(8, activation='relu'))\n",
        "    model.add(Dense(1, activation='sigmoid'))\n",
        "    model.compile(optimizer='sgd',loss='binary_crossentropy',metrics=['accuracy'])\n",
        "\n",
        "    return model\n",
        "# fix random seed for reproducibility\n",
        "# create model\n",
        "model = KerasClassifier(build_fn=create_model, verbose=0)\n",
        "model.fit(X_train,y_train, epochs=100, batch_size=80, validation_split = 0.2)\n",
        "preds_train = model.predict(X_train)\n",
        "preds_test = model.predict(X_test)\n",
        "\n",
        "print(\"Train accuracy:\", np.round(accuracy_score(y_train, preds_train.round()), 3))\n",
        "print(\"Test accuracy:\", np.round(accuracy_score(y_test, preds_test.round()), 3))\n"
      ],
      "execution_count": 0,
      "outputs": []
    },
    {
      "cell_type": "code",
      "metadata": {
        "id": "gSlHKW7Oe_mS",
        "colab_type": "code",
        "colab": {}
      },
      "source": [
        "runResults.loc[28] = ['DEEP LEARNING BASE model - Stochastic gradient descent (SGD) OPTIMIZER', 'No', accuracy_score(y_test, preds_test) ]"
      ],
      "execution_count": 0,
      "outputs": []
    },
    {
      "cell_type": "code",
      "metadata": {
        "id": "4hfTDOR8fF3C",
        "colab_type": "code",
        "colab": {}
      },
      "source": [
        "runResults"
      ],
      "execution_count": 0,
      "outputs": []
    },
    {
      "cell_type": "markdown",
      "metadata": {
        "id": "r-jVK2GlmjXe",
        "colab_type": "text"
      },
      "source": [
        ""
      ]
    },
    {
      "cell_type": "markdown",
      "metadata": {
        "id": "AqmGil2wmjXe",
        "colab_type": "text"
      },
      "source": [
        "# Discussion/Analysis of Results"
      ]
    },
    {
      "cell_type": "markdown",
      "metadata": {
        "id": "ccDxATUHmjXe",
        "colab_type": "text"
      },
      "source": [
        "We used 31 features for both the home and away teams, plus an indicator for whether the game was played on a neutral court. That equals 63 features available for the model. We expiremented extensively with different combinations of numbers of features, (using all 63, using only raw data, using only features we created), different ways we aggregated the data, (actual game stats, averages, home and away averages, differences in stats between the 2 teams) and with different models, (logistic regression, decisiontreeClassifier, xgboost, etc.). In the end, or best model, which was statistically significant compared to a vanilla logistic regression model, was using the average from the first 80% games of all 63 features for the matchups for both the train and test datasets. It got us to 63.7% accuracy which was better than only picking based on the home team, but was a little short of our goal of 68%.\n",
        "\n",
        "We played around a little with deep learning models, but were unable to produce a significant result."
      ]
    }
  ]
}